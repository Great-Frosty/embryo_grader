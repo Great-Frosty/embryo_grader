{
  "cells": [
    {
      "cell_type": "code",
      "execution_count": null,
      "metadata": {
        "colab": {
          "base_uri": "https://localhost:8080/"
        },
        "id": "pUjF6_q_Gf32",
        "outputId": "8b78b5d5-bcfc-4988-d08f-cebd60b0f270"
      },
      "outputs": [
        {
          "output_type": "stream",
          "name": "stdout",
          "text": [
            "Mounted at /content/drive\n"
          ]
        }
      ],
      "source": [
        "from google.colab import drive\n",
        "drive.mount('/content/drive')"
      ]
    },
    {
      "cell_type": "code",
      "execution_count": null,
      "metadata": {
        "id": "tJenHlZ4GsJl",
        "colab": {
          "base_uri": "https://localhost:8080/"
        },
        "outputId": "5aef824d-96b7-437f-c370-4a1ce61be5ac"
      },
      "outputs": [
        {
          "output_type": "stream",
          "name": "stdout",
          "text": [
            "\u001b[K     |████████████████████████████████| 102 kB 5.5 MB/s \n",
            "\u001b[K     |████████████████████████████████| 60.3 MB 1.2 MB/s \n",
            "\u001b[K     |████████████████████████████████| 47.6 MB 1.2 MB/s \n",
            "\u001b[K     |████████████████████████████████| 376 kB 4.0 MB/s \n",
            "\u001b[?25h"
          ]
        }
      ],
      "source": [
        "!pip install albumentations==1.1.0 opencv-python==4.5.4.58 --quiet\n",
        "!pip install timm --quiet"
      ]
    },
    {
      "cell_type": "code",
      "execution_count": null,
      "metadata": {
        "id": "tLAWPGsyG_nG"
      },
      "outputs": [],
      "source": [
        "import pandas as pd\n",
        "import timm\n",
        "from tqdm import tqdm\n",
        "import numpy as np\n",
        "import os\n",
        "import random\n",
        "import copy\n",
        "import torch\n",
        "import torch.nn as nn\n",
        "import torch.nn.functional as F\n",
        "from sklearn.model_selection import KFold\n",
        "from torch.utils.data import Dataset, DataLoader, ConcatDataset\n",
        "from collections import defaultdict\n",
        "import albumentations as A\n",
        "from albumentations.pytorch import ToTensorV2\n",
        "from PIL import Image\n",
        "import cv2 as cv\n",
        "from google.colab.patches import cv2_imshow\n",
        "from matplotlib import pyplot as plt\n",
        "from sklearn.metrics import ConfusionMatrixDisplay\n",
        "import seaborn as sns\n",
        "from scipy.special import softmax"
      ]
    },
    {
      "cell_type": "code",
      "execution_count": null,
      "metadata": {
        "id": "boIfGlOZH_52"
      },
      "outputs": [],
      "source": [
        "seed = 42\n",
        "random.seed(seed)\n",
        "os.environ[\"PYTHONHASHSEED\"] = str(seed)\n",
        "np.random.seed(seed)\n",
        "torch.cuda.manual_seed(seed)\n",
        "torch.manual_seed(0)\n",
        "torch.backends.cudnn.deterministic = True"
      ]
    },
    {
      "cell_type": "code",
      "execution_count": null,
      "metadata": {
        "id": "-VHc7dLWIKT1"
      },
      "outputs": [],
      "source": [
        "data_path = os.path.join(os.getcwd(), 'drive/MyDrive/data_diploma/SFU/BlastsOnline/')\n",
        "gt_icm_path = os.path.join(data_path, 'GT_ICM')\n",
        "gt_te_path = os.path.join(data_path, 'GT_TE')\n",
        "gt_zp_path = os.path.join(data_path, 'GT_ZP')\n",
        "images_path = os.path.join(data_path, 'Images')\n",
        "compound_gt_path = os.path.join(data_path, 'predicted_compound_gt')"
      ]
    },
    {
      "cell_type": "code",
      "execution_count": null,
      "metadata": {
        "colab": {
          "base_uri": "https://localhost:8080/",
          "height": 206
        },
        "id": "h_2wg7UOIZEf",
        "outputId": "2b3af3c7-be5d-4787-8034-e5f4f7ae0822"
      },
      "outputs": [
        {
          "output_type": "execute_result",
          "data": {
            "text/html": [
              "\n",
              "  <div id=\"df-b71e1909-86af-4d21-aabe-171c2c180e23\">\n",
              "    <div class=\"colab-df-container\">\n",
              "      <div>\n",
              "<style scoped>\n",
              "    .dataframe tbody tr th:only-of-type {\n",
              "        vertical-align: middle;\n",
              "    }\n",
              "\n",
              "    .dataframe tbody tr th {\n",
              "        vertical-align: top;\n",
              "    }\n",
              "\n",
              "    .dataframe thead th {\n",
              "        text-align: right;\n",
              "    }\n",
              "</style>\n",
              "<table border=\"1\" class=\"dataframe\">\n",
              "  <thead>\n",
              "    <tr style=\"text-align: right;\">\n",
              "      <th></th>\n",
              "      <th>File Name</th>\n",
              "      <th>GRADE</th>\n",
              "      <th>Expansion</th>\n",
              "      <th>ICM</th>\n",
              "      <th>TE</th>\n",
              "      <th>Outcome</th>\n",
              "    </tr>\n",
              "  </thead>\n",
              "  <tbody>\n",
              "    <tr>\n",
              "      <th>245</th>\n",
              "      <td>Blast_PCRM_d5.17</td>\n",
              "      <td>2BC</td>\n",
              "      <td>2.0</td>\n",
              "      <td>B</td>\n",
              "      <td>C</td>\n",
              "      <td>2.0</td>\n",
              "    </tr>\n",
              "    <tr>\n",
              "      <th>246</th>\n",
              "      <td>Blast_PCRM_d5.22</td>\n",
              "      <td>2AB</td>\n",
              "      <td>2.0</td>\n",
              "      <td>A</td>\n",
              "      <td>B</td>\n",
              "      <td>2.0</td>\n",
              "    </tr>\n",
              "    <tr>\n",
              "      <th>247</th>\n",
              "      <td>Blast_PCRM_d5.24</td>\n",
              "      <td>4AA</td>\n",
              "      <td>4.0</td>\n",
              "      <td>A</td>\n",
              "      <td>A</td>\n",
              "      <td>2.0</td>\n",
              "    </tr>\n",
              "    <tr>\n",
              "      <th>248</th>\n",
              "      <td>Blast_PCRM_d5.26</td>\n",
              "      <td>4BA</td>\n",
              "      <td>4.0</td>\n",
              "      <td>B</td>\n",
              "      <td>A</td>\n",
              "      <td>2.0</td>\n",
              "    </tr>\n",
              "    <tr>\n",
              "      <th>249</th>\n",
              "      <td>Blast_PCRM_d5.29</td>\n",
              "      <td>2BB</td>\n",
              "      <td>2.0</td>\n",
              "      <td>B</td>\n",
              "      <td>B</td>\n",
              "      <td>2.0</td>\n",
              "    </tr>\n",
              "  </tbody>\n",
              "</table>\n",
              "</div>\n",
              "      <button class=\"colab-df-convert\" onclick=\"convertToInteractive('df-b71e1909-86af-4d21-aabe-171c2c180e23')\"\n",
              "              title=\"Convert this dataframe to an interactive table.\"\n",
              "              style=\"display:none;\">\n",
              "        \n",
              "  <svg xmlns=\"http://www.w3.org/2000/svg\" height=\"24px\"viewBox=\"0 0 24 24\"\n",
              "       width=\"24px\">\n",
              "    <path d=\"M0 0h24v24H0V0z\" fill=\"none\"/>\n",
              "    <path d=\"M18.56 5.44l.94 2.06.94-2.06 2.06-.94-2.06-.94-.94-2.06-.94 2.06-2.06.94zm-11 1L8.5 8.5l.94-2.06 2.06-.94-2.06-.94L8.5 2.5l-.94 2.06-2.06.94zm10 10l.94 2.06.94-2.06 2.06-.94-2.06-.94-.94-2.06-.94 2.06-2.06.94z\"/><path d=\"M17.41 7.96l-1.37-1.37c-.4-.4-.92-.59-1.43-.59-.52 0-1.04.2-1.43.59L10.3 9.45l-7.72 7.72c-.78.78-.78 2.05 0 2.83L4 21.41c.39.39.9.59 1.41.59.51 0 1.02-.2 1.41-.59l7.78-7.78 2.81-2.81c.8-.78.8-2.07 0-2.86zM5.41 20L4 18.59l7.72-7.72 1.47 1.35L5.41 20z\"/>\n",
              "  </svg>\n",
              "      </button>\n",
              "      \n",
              "  <style>\n",
              "    .colab-df-container {\n",
              "      display:flex;\n",
              "      flex-wrap:wrap;\n",
              "      gap: 12px;\n",
              "    }\n",
              "\n",
              "    .colab-df-convert {\n",
              "      background-color: #E8F0FE;\n",
              "      border: none;\n",
              "      border-radius: 50%;\n",
              "      cursor: pointer;\n",
              "      display: none;\n",
              "      fill: #1967D2;\n",
              "      height: 32px;\n",
              "      padding: 0 0 0 0;\n",
              "      width: 32px;\n",
              "    }\n",
              "\n",
              "    .colab-df-convert:hover {\n",
              "      background-color: #E2EBFA;\n",
              "      box-shadow: 0px 1px 2px rgba(60, 64, 67, 0.3), 0px 1px 3px 1px rgba(60, 64, 67, 0.15);\n",
              "      fill: #174EA6;\n",
              "    }\n",
              "\n",
              "    [theme=dark] .colab-df-convert {\n",
              "      background-color: #3B4455;\n",
              "      fill: #D2E3FC;\n",
              "    }\n",
              "\n",
              "    [theme=dark] .colab-df-convert:hover {\n",
              "      background-color: #434B5C;\n",
              "      box-shadow: 0px 1px 3px 1px rgba(0, 0, 0, 0.15);\n",
              "      filter: drop-shadow(0px 1px 2px rgba(0, 0, 0, 0.3));\n",
              "      fill: #FFFFFF;\n",
              "    }\n",
              "  </style>\n",
              "\n",
              "      <script>\n",
              "        const buttonEl =\n",
              "          document.querySelector('#df-b71e1909-86af-4d21-aabe-171c2c180e23 button.colab-df-convert');\n",
              "        buttonEl.style.display =\n",
              "          google.colab.kernel.accessAllowed ? 'block' : 'none';\n",
              "\n",
              "        async function convertToInteractive(key) {\n",
              "          const element = document.querySelector('#df-b71e1909-86af-4d21-aabe-171c2c180e23');\n",
              "          const dataTable =\n",
              "            await google.colab.kernel.invokeFunction('convertToInteractive',\n",
              "                                                     [key], {});\n",
              "          if (!dataTable) return;\n",
              "\n",
              "          const docLinkHtml = 'Like what you see? Visit the ' +\n",
              "            '<a target=\"_blank\" href=https://colab.research.google.com/notebooks/data_table.ipynb>data table notebook</a>'\n",
              "            + ' to learn more about interactive tables.';\n",
              "          element.innerHTML = '';\n",
              "          dataTable['output_type'] = 'display_data';\n",
              "          await google.colab.output.renderOutput(dataTable, element);\n",
              "          const docLink = document.createElement('div');\n",
              "          docLink.innerHTML = docLinkHtml;\n",
              "          element.appendChild(docLink);\n",
              "        }\n",
              "      </script>\n",
              "    </div>\n",
              "  </div>\n",
              "  "
            ],
            "text/plain": [
              "            File Name GRADE  Expansion ICM TE  Outcome\n",
              "245  Blast_PCRM_d5.17   2BC        2.0   B  C      2.0\n",
              "246  Blast_PCRM_d5.22   2AB        2.0   A  B      2.0\n",
              "247  Blast_PCRM_d5.24   4AA        4.0   A  A      2.0\n",
              "248  Blast_PCRM_d5.26   4BA        4.0   B  A      2.0\n",
              "249  Blast_PCRM_d5.29   2BB        2.0   B  B      2.0"
            ]
          },
          "metadata": {},
          "execution_count": 6
        }
      ],
      "source": [
        "df = pd.read_excel(os.path.join(data_path, 'MasterlistAug30-2017.xlsx'), header=0)\n",
        "df.drop(0, inplace=True)\n",
        "df.drop([250, 251], inplace=True)\n",
        "df.drop(['Unnamed: 0', 'Unnamed: 1', 'Acquisition Year'], axis=1, inplace=True)\n",
        "df.tail()"
      ]
    },
    {
      "cell_type": "code",
      "execution_count": null,
      "metadata": {
        "id": "qWbDJmknKpJR"
      },
      "outputs": [],
      "source": [
        "image_filepaths = [os.path.join(images_path, d) for d in os.listdir(images_path)]\n",
        "mask_filepaths = [os.path.join(compound_gt_path, d) for d in os.listdir(compound_gt_path)]"
      ]
    },
    {
      "cell_type": "code",
      "execution_count": null,
      "metadata": {
        "id": "w5aPq9n_OMEi"
      },
      "outputs": [],
      "source": [
        "path_pairs = list(zip(sorted(image_filepaths), sorted(mask_filepaths)))\n",
        "\n",
        "for pair in path_pairs:\n",
        "    img_name = os.path.basename(pair[0])[:-4]\n",
        "    mask_name = os.path.basename(pair[1])[:-9]\n",
        "    try:\n",
        "        assert img_name == mask_name\n",
        "    except AssertionError:\n",
        "        print(img_name, mask_name, '\\n****') # this is needed to make sure we formed path pairs in correct order (we've been burned before...)"
      ]
    },
    {
      "cell_type": "code",
      "execution_count": null,
      "metadata": {
        "id": "lpDKDFp2Ozcg"
      },
      "outputs": [],
      "source": [
        "train_images_filepaths = path_pairs[:190]\n",
        "val_images_filepaths = path_pairs[190:]"
      ]
    },
    {
      "cell_type": "code",
      "execution_count": null,
      "metadata": {
        "colab": {
          "base_uri": "https://localhost:8080/"
        },
        "id": "6zK-Bhs-J_PF",
        "outputId": "eba39068-2043-4ec0-9832-756c3cba42fa"
      },
      "outputs": [
        {
          "output_type": "execute_result",
          "data": {
            "text/plain": [
              "array(['4AA', '3AB', '2AA', '3AA', '4AB', '3BB', '2BB', '4AC', '3BA',\n",
              "       '2BA', '2AB', '4BB', '4BA', '2BC', '2CC', '2CB', '2AC', '3AC',\n",
              "       '4CC', '4BC', '3BC'], dtype=object)"
            ]
          },
          "metadata": {},
          "execution_count": 10
        }
      ],
      "source": [
        "img_name = os.path.basename(train_images_filepaths[0][0])[:-4]\n",
        "a = df[df['File Name'] == img_name]['GRADE']\n",
        "type(a.to_string())\n",
        "df['GRADE'].unique()"
      ]
    },
    {
      "cell_type": "markdown",
      "metadata": {
        "id": "rz8Zs_C8NTjA"
      },
      "source": [
        "from unique values we infer range of classes.  \n",
        "2-4 for Expansion  \n",
        "A-C for ICM  \n",
        "A-C for Trophectoderm"
      ]
    },
    {
      "cell_type": "code",
      "execution_count": null,
      "metadata": {
        "id": "U1AzwuwaUNMR"
      },
      "outputs": [],
      "source": [
        "train_transform = A.Compose([\n",
        "                A.Resize(400, 400),\n",
        "                A.Flip(),\n",
        "                A.ShiftScaleRotate(scale_limit=0),\n",
        "                A.CoarseDropout(max_height=16, max_width=16),\n",
        "                A.Normalize(mean=(0.5685, 0.0780, 0.1088, 0.1503), std=(0.1500, 0.2673, 0.3080, 0.3542)),\n",
        "                ToTensorV2()\n",
        "])\n",
        "val_transform = A.Compose([\n",
        "                A.Resize(400, 400),\n",
        "                A.Normalize(mean=(0.5685, 0.0780, 0.1088, 0.1503), std=(0.1500, 0.2673, 0.3080, 0.3542)),\n",
        "                ToTensorV2()\n",
        "])"
      ]
    },
    {
      "cell_type": "code",
      "execution_count": null,
      "metadata": {
        "id": "BwgPnGwWPLd2"
      },
      "outputs": [],
      "source": [
        "class BlastDataset(Dataset):\n",
        "    def __init__(self, filepaths, transform, labels=df):\n",
        "        self.filepaths = filepaths\n",
        "        self.transform = transform\n",
        "        self.labels = df\n",
        "\n",
        "    def decode_mask(self, mask):\n",
        "        decoded_shape = (mask.shape[0], mask.shape[1], 3)\n",
        "        decoded_image = np.zeros(shape=decoded_shape)\n",
        "        for i in range(3):\n",
        "            decoded_image[:, :, i][mask == i + 1] = 255\n",
        "        return decoded_image\n",
        "\n",
        "    def encode_label(self, label):\n",
        "        expansion_to_id = {'2': 0, '3': 1, '4': 2}\n",
        "        grade_to_id = {'A': 0, 'B': 1, 'C': 2}\n",
        "        encoded_label = (expansion_to_id[label[0]], grade_to_id[label[1]], grade_to_id[label[2]])\n",
        "        return torch.Tensor(encoded_label)\n",
        "\n",
        "    def __getitem__(self, idx):\n",
        "\n",
        "        image, mask = self.filepaths[idx]\n",
        "        img_name = os.path.basename(image)[:-4]\n",
        "        image = cv.imread(image, cv.IMREAD_GRAYSCALE) # image is grayscale - later we should test if adding color improves performace\n",
        "        mask = cv.imread(mask, cv.IMREAD_GRAYSCALE)\n",
        "        mask = self.decode_mask(mask) # h*w*3 !!!\n",
        "        input = np.dstack((image, mask)) # h*w*4\n",
        "        if self.transform is not None:\n",
        "            transformed = self.transform(image=input)\n",
        "            input = transformed['image']\n",
        "        grade = self.labels[self.labels['File Name'] == img_name]['GRADE'].values[0]\n",
        "        grade = self.encode_label(grade)\n",
        "        return input, grade\n",
        "\n",
        "    def __len__(self):\n",
        "        return len(self.filepaths)"
      ]
    },
    {
      "cell_type": "code",
      "execution_count": null,
      "metadata": {
        "id": "kqYwsadRVXjL"
      },
      "outputs": [],
      "source": [
        "class MetricMonitor:\n",
        "    def __init__(self, float_precision=3):\n",
        "        self.float_precision = float_precision\n",
        "        self.reset()\n",
        "\n",
        "    def reset(self):\n",
        "        self.metrics = defaultdict(lambda: {\"val\": 0, \"count\": 0, \"avg\": 0})\n",
        "\n",
        "    def update(self, metric_name, val):\n",
        "        metric = self.metrics[metric_name]\n",
        "\n",
        "        metric[\"val\"] += val\n",
        "        metric[\"count\"] += 1\n",
        "        metric[\"avg\"] = metric[\"val\"] / metric[\"count\"]\n",
        "\n",
        "    def __str__(self):\n",
        "        return \" | \".join(\n",
        "            [\n",
        "                \"{metric_name}: {avg:.{float_precision}f}\".format(\n",
        "                    metric_name=metric_name, avg=metric[\"avg\"], float_precision=self.float_precision\n",
        "                )\n",
        "                for (metric_name, metric) in self.metrics.items()\n",
        "            ]\n",
        "        )"
      ]
    },
    {
      "cell_type": "code",
      "execution_count": null,
      "metadata": {
        "id": "votL8h_HVQ3V"
      },
      "outputs": [],
      "source": [
        "def calculate_accuracy(output, target):\n",
        "    with torch.no_grad():\n",
        "        accs = []\n",
        "        for logits, labels in zip(output, target):\n",
        "            preds = F.softmax(logits, dim=1).argmax(dim=1)\n",
        "            acc = torch.true_divide(torch.sum(preds == labels), logits.size(0))\n",
        "            accs.append(acc)\n",
        "        return accs"
      ]
    },
    {
      "cell_type": "code",
      "execution_count": null,
      "metadata": {
        "id": "Y3bMHERWWZMc"
      },
      "outputs": [],
      "source": [
        "def train(train_loader, model, criterion1, criterion2, criterion3, optimizer, epoch, params):\n",
        "    metric_monitor = MetricMonitor()\n",
        "    model.train()\n",
        "    stream = tqdm(train_loader)\n",
        "    for images, labels in stream:\n",
        "        if device.type == 'cuda':\n",
        "            images = images.to(device, non_blocking=True)\n",
        "            labels = labels.to(device, non_blocking=True)\n",
        "        expansion, icm, troph = model(images)\n",
        "        labels_expansion = labels[:, 0]\n",
        "        labels_icm = labels[:, 1]\n",
        "        labels_troph = labels[:, 2]\n",
        "        loss1 = criterion1(expansion, labels_expansion.long())\n",
        "        loss2 = criterion2(icm, labels_icm.long())\n",
        "        loss3 = criterion3(troph, labels_troph.long())\n",
        "        loss = loss1 + loss2 + loss3\n",
        "        acc_exp, acc_icm, acc_troph = calculate_accuracy((expansion, icm, troph), (labels_expansion, labels_icm, labels_troph))\n",
        "        metric_monitor.update(\"Loss\", loss.item())\n",
        "        metric_monitor.update('Accuracy_exp', acc_exp.item())\n",
        "        metric_monitor.update('Accuracy_icm', acc_icm.item())\n",
        "        metric_monitor.update('Accuracy_troph', acc_troph.item())\n",
        "        optimizer.zero_grad()\n",
        "        loss.backward()\n",
        "        optimizer.step()\n",
        "        stream.set_description(\n",
        "            \"Epoch: {epoch}. Train.           {metric_monitor}\".format(epoch=epoch, metric_monitor=metric_monitor)\n",
        "        )\n",
        "    return [metric_monitor.metrics[metric]['avg'] for metric in metric_monitor.metrics.keys()]"
      ]
    },
    {
      "cell_type": "code",
      "execution_count": null,
      "metadata": {
        "id": "8lLazwfyZTHA"
      },
      "outputs": [],
      "source": [
        "def validate(validation_loader, model, criterion1, criterion2, criterion3, epoch, params):\n",
        "    metric_monitor = MetricMonitor()\n",
        "    model.eval()\n",
        "    stream = tqdm(validation_loader)\n",
        "    with torch.no_grad():\n",
        "        for images, labels in stream:\n",
        "            if device.type == 'cuda':\n",
        "                images = images.to(device, non_blocking=True)\n",
        "                labels = labels.to(device, non_blocking=True)\n",
        "            expansion, icm, troph = model(images)\n",
        "            labels_expansion = labels[:, 0]\n",
        "            labels_icm = labels[:, 1]\n",
        "            labels_troph = labels[:, 2]\n",
        "            loss1 = criterion1(expansion, labels_expansion.long())\n",
        "            loss2 = criterion2(icm, labels_icm.long())\n",
        "            loss3 = criterion3(troph, labels_troph.long())\n",
        "            loss = loss1 + loss2 + loss3\n",
        "            acc_exp, acc_icm, acc_troph = calculate_accuracy((expansion, icm, troph), (labels_expansion, labels_icm, labels_troph))\n",
        "            metric_monitor.update(\"Loss\", loss.item())\n",
        "            metric_monitor.update('Accuracy_exp', acc_exp.item())\n",
        "            metric_monitor.update('Accuracy_icm', acc_icm.item())\n",
        "            metric_monitor.update('Accuracy_troph', acc_troph.item())\n",
        "            stream.set_description(\n",
        "                \"Epoch: {epoch}. Validation.      {metric_monitor}\".format(epoch=epoch, metric_monitor=metric_monitor)\n",
        "            )\n",
        "    return [metric_monitor.metrics[metric]['avg'] for metric in metric_monitor.metrics.keys()]"
      ]
    },
    {
      "cell_type": "code",
      "execution_count": null,
      "metadata": {
        "colab": {
          "base_uri": "https://localhost:8080/"
        },
        "id": "41NIXhfdZ5E8",
        "outputId": "d8174727-b370-473b-8180-d18eb2d05f0a"
      },
      "outputs": [
        {
          "output_type": "stream",
          "name": "stdout",
          "text": [
            "cuda selected\n"
          ]
        }
      ],
      "source": [
        "params = {\n",
        "    \"lr\": 0.00005,\n",
        "    \"batch_size\": 4,\n",
        "    \"num_workers\": 2,\n",
        "    \"epochs\": 20,\n",
        "    \"folds\": 5\n",
        "}\n",
        "device = torch.device('cuda' if torch.cuda.is_available() else 'cpu')\n",
        "print(f'{device} selected')"
      ]
    },
    {
      "cell_type": "markdown",
      "metadata": {
        "id": "qJB-Z2SaaB2K"
      },
      "source": [
        "Docs for the xception are here:  \n",
        "https://rwightman.github.io/pytorch-image-models/models/xception/  \n",
        "\n",
        "We have to slightly modify the model, it will basically be a sandwich - first convolutions, then xception in all it's glory, then three separate fc classifiers. We sould pay attention to custom layer initialization."
      ]
    },
    {
      "cell_type": "code",
      "execution_count": null,
      "metadata": {
        "id": "QcmzUngSZ8fy"
      },
      "outputs": [],
      "source": [
        "class CompositeModel(nn.Module):\n",
        "    def __init__(self, model):\n",
        "        super().__init__()\n",
        "        self.pre_trained = model\n",
        "        self.pre_trained.conv1 = nn.Conv2d(4, 32, kernel_size=(3, 3), stride=(2, 2), bias=False)\n",
        "        self.pre_trained.fc = nn.Identity() # 2048*1\n",
        "        self.fc1 = nn.Linear(2048, 3)\n",
        "        self.fc2 = nn.Linear(2048, 3)\n",
        "        self.fc3 = nn.Linear(2048, 3)\n",
        "\n",
        "    def forward(self, x):\n",
        "        x = self.pre_trained(x)\n",
        "        expansion = self.fc1(x)\n",
        "        icm = self.fc2(x)\n",
        "        troph = self.fc3(x)\n",
        "        return expansion, icm, troph"
      ]
    },
    {
      "cell_type": "code",
      "execution_count": null,
      "metadata": {
        "id": "BI3OFNSlQ32q"
      },
      "outputs": [],
      "source": [
        "train_dataset = BlastDataset(path_pairs, transform=train_transform)\n",
        "val_dataset = BlastDataset(path_pairs, transform=val_transform)"
      ]
    },
    {
      "cell_type": "code",
      "execution_count": null,
      "metadata": {
        "id": "H7OTnWB2nGyX"
      },
      "outputs": [],
      "source": [
        "def get_mean_std(loader):\n",
        "    channels_sum, channels_squared_sum, num_batches = 0, 0, 0\n",
        "    for data, _ in tqdm(loader):\n",
        "        channels_sum += torch.mean(data, dim=[0,2,3])\n",
        "        channels_squared_sum += torch.mean(data**2, dim=[0,2,3])\n",
        "        num_batches += 1\n",
        "    \n",
        "    mean = channels_sum / num_batches\n",
        "    std = (channels_squared_sum / num_batches - mean**2)**0.5\n",
        "    return mean, std"
      ]
    },
    {
      "cell_type": "code",
      "execution_count": null,
      "metadata": {
        "id": "n_gyPOZDXBQj"
      },
      "outputs": [],
      "source": [
        "# norm_dataset = BlastDataset(path_pairs, transform=A.Compose([A.Resize(400, 400), ToTensorV2()]))\n",
        "# norm_loader = DataLoader(norm_dataset, batch_size=4)\n",
        "# mean, std = get_mean_std(norm_loader)\n",
        "# print(mean / 255)\n",
        "# print(std / 255)"
      ]
    },
    {
      "cell_type": "code",
      "execution_count": null,
      "metadata": {
        "id": "Xaw2ftQZW7vl"
      },
      "outputs": [],
      "source": [
        "# mean = [0.5685, 0.0780, 0.1088, 0.1503]\n",
        "# std = [0.1500, 0.2673, 0.3080, 0.3542]"
      ]
    },
    {
      "cell_type": "code",
      "execution_count": null,
      "metadata": {
        "id": "eEiEm_vjgVTc"
      },
      "outputs": [],
      "source": [
        "def decode_mask(mask):\n",
        "    decoded_shape = (mask.shape[0], mask.shape[1], 3)\n",
        "    decoded_image = np.zeros(shape=decoded_shape)\n",
        "    for i in range(3):\n",
        "        decoded_image[:, :, i][mask == i + 1] = 255\n",
        "    return decoded_image"
      ]
    },
    {
      "cell_type": "code",
      "execution_count": null,
      "metadata": {
        "id": "2Xst1wm0dA09"
      },
      "outputs": [],
      "source": [
        "def plot_data(image, mask):\n",
        "    fig, ax = plt.subplots(1, 4, figsize = (25,5))\n",
        "    # image = image.permute((1,2,0))\n",
        "    image = cv.imread(image, cv.IMREAD_GRAYSCALE)\n",
        "    mask = cv.imread(mask, cv.IMREAD_GRAYSCALE)\n",
        "    mask = decode_mask(mask)\n",
        "    print(mask.shape)\n",
        "    ax[0].imshow(image)\n",
        "    for i in range(1, 4):\n",
        "        ax[i].imshow(image)\n",
        "        ax[i].imshow(mask[:, :, i - 1], alpha=0.5)\n"
      ]
    },
    {
      "cell_type": "code",
      "execution_count": null,
      "metadata": {
        "colab": {
          "base_uri": "https://localhost:8080/",
          "height": 564
        },
        "id": "dIbPxly5fz11",
        "outputId": "b0205b7a-d76e-4c7d-86fd-aac99bd3fefe"
      },
      "outputs": [
        {
          "output_type": "stream",
          "name": "stdout",
          "text": [
            "3.0    111\n",
            "2.0     78\n",
            "4.0     60\n",
            "Name: Expansion, dtype: int64\n",
            "A    167\n",
            "B     79\n",
            "C      3\n",
            "Name: ICM, dtype: int64\n",
            "A    143\n",
            "B     93\n",
            "C     13\n",
            "Name: TE, dtype: int64\n"
          ]
        },
        {
          "output_type": "display_data",
          "data": {
            "image/png": "[encoded data removed]",
            "text/plain": [
              "<Figure size 1296x360 with 3 Axes>"
            ]
          },
          "metadata": {
            "needs_background": "light"
          }
        }
      ],
      "source": [
        "fig, ax = plt.subplots(1,3, figsize=(18,5), sharey=True)\n",
        "cols = ['Expansion', 'ICM', 'TE']\n",
        "messages = ['Степень развития',\n",
        "            'Качество внутриклеточной массы',\n",
        "            'Качество трофобласта']\n",
        "plt.suptitle('Баланс классов по трём критериям оценки в датасете')\n",
        "for i, col in enumerate(cols):\n",
        "    values = df[col].value_counts()\n",
        "    print(values)\n",
        "    sns.barplot(y = values.values, x = values.index, ax=ax[i])\n",
        "    ax[i].set_title(messages[i])"
      ]
    },
    {
      "cell_type": "code",
      "execution_count": null,
      "metadata": {
        "colab": {
          "base_uri": "https://localhost:8080/"
        },
        "id": "pOKimuJ2s8pO",
        "outputId": "e996ba91-3443-4316-da70-45bcc32bc403"
      },
      "outputs": [
        {
          "output_type": "execute_result",
          "data": {
            "text/plain": [
              "tensor([[ 2.2432,  3.1923,  4.1500],\n",
              "        [ 1.4910,  3.1519, 83.0000],\n",
              "        [ 1.7413,  2.6774, 19.1538]])"
            ]
          },
          "metadata": {},
          "execution_count": 26
        }
      ],
      "source": [
        "weights = []\n",
        "for i, col in enumerate(cols):\n",
        "    vals = df[col].value_counts().values\n",
        "    col_weights = []\n",
        "    for val in vals:\n",
        "        col_weights.append(sum(vals) / val)\n",
        "    weights.append(col_weights)\n",
        "weights = torch.Tensor(weights)\n",
        "weights"
      ]
    },
    {
      "cell_type": "code",
      "execution_count": null,
      "metadata": {
        "colab": {
          "base_uri": "https://localhost:8080/"
        },
        "id": "xutLIL47iKns",
        "outputId": "60813877-1e47-4e25-9573-5a496d5a62df"
      },
      "outputs": [
        {
          "output_type": "stream",
          "name": "stdout",
          "text": [
            "---FOLD 1---\n"
          ]
        },
        {
          "output_type": "stream",
          "name": "stderr",
          "text": [
            "Downloading: \"https://github.com/rwightman/pytorch-image-models/releases/download/v0.1-cadene/xception-43020ad28.pth\" to /root/.cache/torch/hub/checkpoints/xception-43020ad28.pth\n",
            "Epoch: 1. Train.           Loss: 3.061 | Accuracy_exp: 0.525 | Accuracy_icm: 0.575 | Accuracy_troph: 0.550: 100%|██████████| 50/50 [01:17<00:00,  1.55s/it]\n",
            "Epoch: 1. Validation.      Loss: 2.837 | Accuracy_exp: 0.500 | Accuracy_icm: 0.692 | Accuracy_troph: 0.404: 100%|██████████| 13/13 [00:16<00:00,  1.27s/it]\n"
          ]
        },
        {
          "output_type": "stream",
          "name": "stdout",
          "text": [
            "new optimum reached, average accuracy = 0.532051282051282, model saved\n"
          ]
        },
        {
          "output_type": "stream",
          "name": "stderr",
          "text": [
            "Epoch: 2. Train.           Loss: 2.759 | Accuracy_exp: 0.568 | Accuracy_icm: 0.660 | Accuracy_troph: 0.592: 100%|██████████| 50/50 [00:11<00:00,  4.40it/s]\n",
            "Epoch: 2. Validation.      Loss: 2.581 | Accuracy_exp: 0.673 | Accuracy_icm: 0.712 | Accuracy_troph: 0.462: 100%|██████████| 13/13 [00:01<00:00,  9.53it/s]\n"
          ]
        },
        {
          "output_type": "stream",
          "name": "stdout",
          "text": [
            "new optimum reached, average accuracy = 0.6153846153846154, model saved\n"
          ]
        },
        {
          "output_type": "stream",
          "name": "stderr",
          "text": [
            "Epoch: 3. Train.           Loss: 2.505 | Accuracy_exp: 0.693 | Accuracy_icm: 0.685 | Accuracy_troph: 0.598: 100%|██████████| 50/50 [00:11<00:00,  4.39it/s]\n",
            "Epoch: 3. Validation.      Loss: 2.394 | Accuracy_exp: 0.692 | Accuracy_icm: 0.712 | Accuracy_troph: 0.577: 100%|██████████| 13/13 [00:01<00:00,  9.32it/s]\n"
          ]
        },
        {
          "output_type": "stream",
          "name": "stdout",
          "text": [
            "new optimum reached, average accuracy = 0.6602564102564102, model saved\n"
          ]
        },
        {
          "output_type": "stream",
          "name": "stderr",
          "text": [
            "Epoch: 4. Train.           Loss: 2.366 | Accuracy_exp: 0.733 | Accuracy_icm: 0.678 | Accuracy_troph: 0.642: 100%|██████████| 50/50 [00:11<00:00,  4.42it/s]\n",
            "Epoch: 4. Validation.      Loss: 2.292 | Accuracy_exp: 0.769 | Accuracy_icm: 0.788 | Accuracy_troph: 0.519: 100%|██████████| 13/13 [00:01<00:00,  9.33it/s]\n"
          ]
        },
        {
          "output_type": "stream",
          "name": "stdout",
          "text": [
            "new optimum reached, average accuracy = 0.6923076923076924, model saved\n"
          ]
        },
        {
          "output_type": "stream",
          "name": "stderr",
          "text": [
            "Epoch: 5. Train.           Loss: 2.233 | Accuracy_exp: 0.770 | Accuracy_icm: 0.693 | Accuracy_troph: 0.638: 100%|██████████| 50/50 [00:11<00:00,  4.39it/s]\n",
            "Epoch: 5. Validation.      Loss: 2.254 | Accuracy_exp: 0.750 | Accuracy_icm: 0.769 | Accuracy_troph: 0.654: 100%|██████████| 13/13 [00:01<00:00,  9.54it/s]\n"
          ]
        },
        {
          "output_type": "stream",
          "name": "stdout",
          "text": [
            "new optimum reached, average accuracy = 0.7243589743589743, model saved\n"
          ]
        },
        {
          "output_type": "stream",
          "name": "stderr",
          "text": [
            "Epoch: 6. Train.           Loss: 2.125 | Accuracy_exp: 0.793 | Accuracy_icm: 0.665 | Accuracy_troph: 0.690: 100%|██████████| 50/50 [00:11<00:00,  4.38it/s]\n",
            "Epoch: 6. Validation.      Loss: 2.096 | Accuracy_exp: 0.750 | Accuracy_icm: 0.731 | Accuracy_troph: 0.596: 100%|██████████| 13/13 [00:01<00:00,  9.58it/s]\n",
            "Epoch: 7. Train.           Loss: 1.999 | Accuracy_exp: 0.803 | Accuracy_icm: 0.748 | Accuracy_troph: 0.695: 100%|██████████| 50/50 [00:11<00:00,  4.47it/s]\n",
            "Epoch: 7. Validation.      Loss: 2.057 | Accuracy_exp: 0.731 | Accuracy_icm: 0.827 | Accuracy_troph: 0.519: 100%|██████████| 13/13 [00:01<00:00,  9.42it/s]\n",
            "Epoch: 8. Train.           Loss: 1.919 | Accuracy_exp: 0.845 | Accuracy_icm: 0.723 | Accuracy_troph: 0.683: 100%|██████████| 50/50 [00:11<00:00,  4.49it/s]\n",
            "Epoch: 8. Validation.      Loss: 2.087 | Accuracy_exp: 0.788 | Accuracy_icm: 0.788 | Accuracy_troph: 0.481: 100%|██████████| 13/13 [00:01<00:00,  9.33it/s]\n",
            "Epoch: 9. Train.           Loss: 1.817 | Accuracy_exp: 0.853 | Accuracy_icm: 0.773 | Accuracy_troph: 0.730: 100%|██████████| 50/50 [00:11<00:00,  4.48it/s]\n",
            "Epoch: 9. Validation.      Loss: 2.046 | Accuracy_exp: 0.788 | Accuracy_icm: 0.846 | Accuracy_troph: 0.558: 100%|██████████| 13/13 [00:01<00:00,  9.44it/s]\n"
          ]
        },
        {
          "output_type": "stream",
          "name": "stdout",
          "text": [
            "new optimum reached, average accuracy = 0.7307692307692308, model saved\n"
          ]
        },
        {
          "output_type": "stream",
          "name": "stderr",
          "text": [
            "Epoch: 10. Train.           Loss: 1.873 | Accuracy_exp: 0.805 | Accuracy_icm: 0.768 | Accuracy_troph: 0.740: 100%|██████████| 50/50 [00:11<00:00,  4.39it/s]\n",
            "Epoch: 10. Validation.      Loss: 2.116 | Accuracy_exp: 0.750 | Accuracy_icm: 0.808 | Accuracy_troph: 0.423: 100%|██████████| 13/13 [00:01<00:00,  9.23it/s]\n",
            "Epoch: 11. Train.           Loss: 1.687 | Accuracy_exp: 0.850 | Accuracy_icm: 0.797 | Accuracy_troph: 0.718: 100%|██████████| 50/50 [00:11<00:00,  4.44it/s]\n",
            "Epoch: 11. Validation.      Loss: 2.157 | Accuracy_exp: 0.788 | Accuracy_icm: 0.750 | Accuracy_troph: 0.462: 100%|██████████| 13/13 [00:01<00:00,  9.26it/s]\n",
            "Epoch: 12. Train.           Loss: 1.603 | Accuracy_exp: 0.825 | Accuracy_icm: 0.780 | Accuracy_troph: 0.757: 100%|██████████| 50/50 [00:11<00:00,  4.45it/s]\n",
            "Epoch: 12. Validation.      Loss: 1.940 | Accuracy_exp: 0.788 | Accuracy_icm: 0.865 | Accuracy_troph: 0.673: 100%|██████████| 13/13 [00:01<00:00,  9.44it/s]\n"
          ]
        },
        {
          "output_type": "stream",
          "name": "stdout",
          "text": [
            "new optimum reached, average accuracy = 0.7756410256410255, model saved\n"
          ]
        },
        {
          "output_type": "stream",
          "name": "stderr",
          "text": [
            "Epoch: 13. Train.           Loss: 1.653 | Accuracy_exp: 0.823 | Accuracy_icm: 0.785 | Accuracy_troph: 0.748: 100%|██████████| 50/50 [00:11<00:00,  4.34it/s]\n",
            "Epoch: 13. Validation.      Loss: 2.125 | Accuracy_exp: 0.750 | Accuracy_icm: 0.808 | Accuracy_troph: 0.500: 100%|██████████| 13/13 [00:01<00:00,  9.13it/s]\n",
            "Epoch: 14. Train.           Loss: 1.510 | Accuracy_exp: 0.870 | Accuracy_icm: 0.820 | Accuracy_troph: 0.778: 100%|██████████| 50/50 [00:11<00:00,  4.43it/s]\n",
            "Epoch: 14. Validation.      Loss: 2.026 | Accuracy_exp: 0.769 | Accuracy_icm: 0.808 | Accuracy_troph: 0.558: 100%|██████████| 13/13 [00:01<00:00,  9.54it/s]\n",
            "Epoch: 15. Train.           Loss: 1.385 | Accuracy_exp: 0.848 | Accuracy_icm: 0.875 | Accuracy_troph: 0.790: 100%|██████████| 50/50 [00:11<00:00,  4.52it/s]\n",
            "Epoch: 15. Validation.      Loss: 2.120 | Accuracy_exp: 0.673 | Accuracy_icm: 0.788 | Accuracy_troph: 0.481: 100%|██████████| 13/13 [00:01<00:00,  9.63it/s]\n",
            "Epoch: 16. Train.           Loss: 1.361 | Accuracy_exp: 0.850 | Accuracy_icm: 0.788 | Accuracy_troph: 0.803: 100%|██████████| 50/50 [00:11<00:00,  4.51it/s]\n",
            "Epoch: 16. Validation.      Loss: 2.084 | Accuracy_exp: 0.692 | Accuracy_icm: 0.712 | Accuracy_troph: 0.481: 100%|██████████| 13/13 [00:01<00:00,  9.57it/s]\n",
            "Epoch: 17. Train.           Loss: 1.437 | Accuracy_exp: 0.885 | Accuracy_icm: 0.883 | Accuracy_troph: 0.800: 100%|██████████| 50/50 [00:11<00:00,  4.48it/s]\n",
            "Epoch: 17. Validation.      Loss: 2.104 | Accuracy_exp: 0.692 | Accuracy_icm: 0.788 | Accuracy_troph: 0.481: 100%|██████████| 13/13 [00:01<00:00,  9.69it/s]\n",
            "Epoch: 18. Train.           Loss: 1.201 | Accuracy_exp: 0.908 | Accuracy_icm: 0.855 | Accuracy_troph: 0.838: 100%|██████████| 50/50 [00:11<00:00,  4.50it/s]\n",
            "Epoch: 18. Validation.      Loss: 2.212 | Accuracy_exp: 0.750 | Accuracy_icm: 0.788 | Accuracy_troph: 0.442: 100%|██████████| 13/13 [00:01<00:00,  9.46it/s]\n",
            "Epoch: 19. Train.           Loss: 1.374 | Accuracy_exp: 0.883 | Accuracy_icm: 0.780 | Accuracy_troph: 0.795: 100%|██████████| 50/50 [00:11<00:00,  4.46it/s]\n",
            "Epoch: 19. Validation.      Loss: 2.011 | Accuracy_exp: 0.673 | Accuracy_icm: 0.846 | Accuracy_troph: 0.596: 100%|██████████| 13/13 [00:01<00:00,  9.43it/s]\n",
            "Epoch: 20. Train.           Loss: 1.209 | Accuracy_exp: 0.890 | Accuracy_icm: 0.848 | Accuracy_troph: 0.833: 100%|██████████| 50/50 [00:11<00:00,  4.48it/s]\n",
            "Epoch: 20. Validation.      Loss: 2.007 | Accuracy_exp: 0.750 | Accuracy_icm: 0.846 | Accuracy_troph: 0.577: 100%|██████████| 13/13 [00:01<00:00,  9.27it/s]\n"
          ]
        },
        {
          "output_type": "stream",
          "name": "stdout",
          "text": [
            "Best validation accuracy = 0.7756410256410255\n",
            "---FOLD 2---\n"
          ]
        },
        {
          "output_type": "stream",
          "name": "stderr",
          "text": [
            "Epoch: 1. Train.           Loss: 3.077 | Accuracy_exp: 0.527 | Accuracy_icm: 0.530 | Accuracy_troph: 0.508: 100%|██████████| 50/50 [00:11<00:00,  4.46it/s]\n",
            "Epoch: 1. Validation.      Loss: 2.940 | Accuracy_exp: 0.596 | Accuracy_icm: 0.577 | Accuracy_troph: 0.596: 100%|██████████| 13/13 [00:01<00:00,  9.37it/s]\n"
          ]
        },
        {
          "output_type": "stream",
          "name": "stdout",
          "text": [
            "new optimum reached, average accuracy = 0.5897435897435898, model saved\n"
          ]
        },
        {
          "output_type": "stream",
          "name": "stderr",
          "text": [
            "Epoch: 2. Train.           Loss: 2.740 | Accuracy_exp: 0.598 | Accuracy_icm: 0.688 | Accuracy_troph: 0.585: 100%|██████████| 50/50 [00:11<00:00,  4.36it/s]\n",
            "Epoch: 2. Validation.      Loss: 2.672 | Accuracy_exp: 0.635 | Accuracy_icm: 0.635 | Accuracy_troph: 0.577: 100%|██████████| 13/13 [00:01<00:00,  9.44it/s]\n"
          ]
        },
        {
          "output_type": "stream",
          "name": "stdout",
          "text": [
            "new optimum reached, average accuracy = 0.6153846153846153, model saved\n"
          ]
        },
        {
          "output_type": "stream",
          "name": "stderr",
          "text": [
            "Epoch: 3. Train.           Loss: 2.519 | Accuracy_exp: 0.660 | Accuracy_icm: 0.725 | Accuracy_troph: 0.595: 100%|██████████| 50/50 [00:11<00:00,  4.32it/s]\n",
            "Epoch: 3. Validation.      Loss: 2.531 | Accuracy_exp: 0.769 | Accuracy_icm: 0.673 | Accuracy_troph: 0.558: 100%|██████████| 13/13 [00:01<00:00,  9.31it/s]\n"
          ]
        },
        {
          "output_type": "stream",
          "name": "stdout",
          "text": [
            "new optimum reached, average accuracy = 0.6666666666666666, model saved\n"
          ]
        },
        {
          "output_type": "stream",
          "name": "stderr",
          "text": [
            "Epoch: 4. Train.           Loss: 2.363 | Accuracy_exp: 0.722 | Accuracy_icm: 0.743 | Accuracy_troph: 0.663: 100%|██████████| 50/50 [00:11<00:00,  4.32it/s]\n",
            "Epoch: 4. Validation.      Loss: 2.330 | Accuracy_exp: 0.673 | Accuracy_icm: 0.654 | Accuracy_troph: 0.635: 100%|██████████| 13/13 [00:01<00:00,  9.47it/s]\n",
            "Epoch: 5. Train.           Loss: 2.145 | Accuracy_exp: 0.798 | Accuracy_icm: 0.763 | Accuracy_troph: 0.653: 100%|██████████| 50/50 [00:11<00:00,  4.42it/s]\n",
            "Epoch: 5. Validation.      Loss: 2.313 | Accuracy_exp: 0.808 | Accuracy_icm: 0.692 | Accuracy_troph: 0.635: 100%|██████████| 13/13 [00:01<00:00,  9.45it/s]\n"
          ]
        },
        {
          "output_type": "stream",
          "name": "stdout",
          "text": [
            "new optimum reached, average accuracy = 0.7115384615384616, model saved\n"
          ]
        },
        {
          "output_type": "stream",
          "name": "stderr",
          "text": [
            "Epoch: 6. Train.           Loss: 2.146 | Accuracy_exp: 0.735 | Accuracy_icm: 0.785 | Accuracy_troph: 0.663: 100%|██████████| 50/50 [00:11<00:00,  4.34it/s]\n",
            "Epoch: 6. Validation.      Loss: 2.228 | Accuracy_exp: 0.731 | Accuracy_icm: 0.673 | Accuracy_troph: 0.654: 100%|██████████| 13/13 [00:01<00:00,  9.35it/s]\n",
            "Epoch: 7. Train.           Loss: 1.952 | Accuracy_exp: 0.785 | Accuracy_icm: 0.718 | Accuracy_troph: 0.703: 100%|██████████| 50/50 [00:11<00:00,  4.44it/s]\n",
            "Epoch: 7. Validation.      Loss: 2.167 | Accuracy_exp: 0.712 | Accuracy_icm: 0.712 | Accuracy_troph: 0.654: 100%|██████████| 13/13 [00:01<00:00,  9.67it/s]\n",
            "Epoch: 8. Train.           Loss: 1.913 | Accuracy_exp: 0.815 | Accuracy_icm: 0.733 | Accuracy_troph: 0.657: 100%|██████████| 50/50 [00:11<00:00,  4.48it/s]\n",
            "Epoch: 8. Validation.      Loss: 2.143 | Accuracy_exp: 0.769 | Accuracy_icm: 0.635 | Accuracy_troph: 0.673: 100%|██████████| 13/13 [00:01<00:00,  9.75it/s]\n",
            "Epoch: 9. Train.           Loss: 1.785 | Accuracy_exp: 0.827 | Accuracy_icm: 0.755 | Accuracy_troph: 0.748: 100%|██████████| 50/50 [00:11<00:00,  4.43it/s]\n",
            "Epoch: 9. Validation.      Loss: 2.041 | Accuracy_exp: 0.885 | Accuracy_icm: 0.750 | Accuracy_troph: 0.750: 100%|██████████| 13/13 [00:01<00:00,  9.72it/s]\n"
          ]
        },
        {
          "output_type": "stream",
          "name": "stdout",
          "text": [
            "new optimum reached, average accuracy = 0.7948717948717948, model saved\n"
          ]
        },
        {
          "output_type": "stream",
          "name": "stderr",
          "text": [
            "Epoch: 10. Train.           Loss: 1.741 | Accuracy_exp: 0.850 | Accuracy_icm: 0.798 | Accuracy_troph: 0.750: 100%|██████████| 50/50 [00:11<00:00,  4.37it/s]\n",
            "Epoch: 10. Validation.      Loss: 1.978 | Accuracy_exp: 0.769 | Accuracy_icm: 0.731 | Accuracy_troph: 0.673: 100%|██████████| 13/13 [00:01<00:00,  9.50it/s]\n",
            "Epoch: 11. Train.           Loss: 1.635 | Accuracy_exp: 0.898 | Accuracy_icm: 0.768 | Accuracy_troph: 0.760: 100%|██████████| 50/50 [00:11<00:00,  4.39it/s]\n",
            "Epoch: 11. Validation.      Loss: 2.198 | Accuracy_exp: 0.904 | Accuracy_icm: 0.731 | Accuracy_troph: 0.635: 100%|██████████| 13/13 [00:01<00:00,  9.49it/s]\n",
            "Epoch: 12. Train.           Loss: 1.541 | Accuracy_exp: 0.890 | Accuracy_icm: 0.797 | Accuracy_troph: 0.747: 100%|██████████| 50/50 [00:11<00:00,  4.39it/s]\n",
            "Epoch: 12. Validation.      Loss: 2.108 | Accuracy_exp: 0.885 | Accuracy_icm: 0.654 | Accuracy_troph: 0.712: 100%|██████████| 13/13 [00:01<00:00,  9.23it/s]\n",
            "Epoch: 13. Train.           Loss: 1.538 | Accuracy_exp: 0.822 | Accuracy_icm: 0.787 | Accuracy_troph: 0.830: 100%|██████████| 50/50 [00:11<00:00,  4.45it/s]\n",
            "Epoch: 13. Validation.      Loss: 1.979 | Accuracy_exp: 0.885 | Accuracy_icm: 0.731 | Accuracy_troph: 0.731: 100%|██████████| 13/13 [00:01<00:00,  9.47it/s]\n",
            "Epoch: 14. Train.           Loss: 1.345 | Accuracy_exp: 0.880 | Accuracy_icm: 0.875 | Accuracy_troph: 0.840: 100%|██████████| 50/50 [00:11<00:00,  4.47it/s]\n",
            "Epoch: 14. Validation.      Loss: 2.180 | Accuracy_exp: 0.865 | Accuracy_icm: 0.731 | Accuracy_troph: 0.596: 100%|██████████| 13/13 [00:01<00:00,  9.64it/s]\n",
            "Epoch: 15. Train.           Loss: 1.328 | Accuracy_exp: 0.870 | Accuracy_icm: 0.870 | Accuracy_troph: 0.775: 100%|██████████| 50/50 [00:11<00:00,  4.47it/s]\n",
            "Epoch: 15. Validation.      Loss: 2.182 | Accuracy_exp: 0.904 | Accuracy_icm: 0.731 | Accuracy_troph: 0.712: 100%|██████████| 13/13 [00:01<00:00,  9.60it/s]\n",
            "Epoch: 16. Train.           Loss: 1.320 | Accuracy_exp: 0.835 | Accuracy_icm: 0.878 | Accuracy_troph: 0.835: 100%|██████████| 50/50 [00:11<00:00,  4.47it/s]\n",
            "Epoch: 16. Validation.      Loss: 2.176 | Accuracy_exp: 0.885 | Accuracy_icm: 0.712 | Accuracy_troph: 0.615: 100%|██████████| 13/13 [00:01<00:00,  9.67it/s]\n",
            "Epoch: 17. Train.           Loss: 1.129 | Accuracy_exp: 0.905 | Accuracy_icm: 0.902 | Accuracy_troph: 0.840: 100%|██████████| 50/50 [00:11<00:00,  4.49it/s]\n",
            "Epoch: 17. Validation.      Loss: 2.024 | Accuracy_exp: 0.904 | Accuracy_icm: 0.750 | Accuracy_troph: 0.712: 100%|██████████| 13/13 [00:01<00:00,  9.48it/s]\n",
            "Epoch: 18. Train.           Loss: 1.186 | Accuracy_exp: 0.868 | Accuracy_icm: 0.863 | Accuracy_troph: 0.847: 100%|██████████| 50/50 [00:11<00:00,  4.46it/s]\n",
            "Epoch: 18. Validation.      Loss: 2.051 | Accuracy_exp: 0.885 | Accuracy_icm: 0.731 | Accuracy_troph: 0.712: 100%|██████████| 13/13 [00:01<00:00,  9.87it/s]\n",
            "Epoch: 19. Train.           Loss: 1.104 | Accuracy_exp: 0.945 | Accuracy_icm: 0.847 | Accuracy_troph: 0.828: 100%|██████████| 50/50 [00:11<00:00,  4.48it/s]\n",
            "Epoch: 19. Validation.      Loss: 2.235 | Accuracy_exp: 0.827 | Accuracy_icm: 0.731 | Accuracy_troph: 0.673: 100%|██████████| 13/13 [00:01<00:00,  9.76it/s]\n",
            "Epoch: 20. Train.           Loss: 1.071 | Accuracy_exp: 0.870 | Accuracy_icm: 0.860 | Accuracy_troph: 0.845: 100%|██████████| 50/50 [00:11<00:00,  4.49it/s]\n",
            "Epoch: 20. Validation.      Loss: 2.086 | Accuracy_exp: 0.885 | Accuracy_icm: 0.769 | Accuracy_troph: 0.654: 100%|██████████| 13/13 [00:01<00:00,  9.65it/s]\n"
          ]
        },
        {
          "output_type": "stream",
          "name": "stdout",
          "text": [
            "Best validation accuracy = 0.7948717948717948\n",
            "---FOLD 3---\n"
          ]
        },
        {
          "output_type": "stream",
          "name": "stderr",
          "text": [
            "Epoch: 1. Train.           Loss: 3.060 | Accuracy_exp: 0.485 | Accuracy_icm: 0.527 | Accuracy_troph: 0.558: 100%|██████████| 50/50 [00:11<00:00,  4.48it/s]\n",
            "Epoch: 1. Validation.      Loss: 2.888 | Accuracy_exp: 0.442 | Accuracy_icm: 0.673 | Accuracy_troph: 0.596: 100%|██████████| 13/13 [00:01<00:00,  9.60it/s]\n"
          ]
        },
        {
          "output_type": "stream",
          "name": "stdout",
          "text": [
            "new optimum reached, average accuracy = 0.5705128205128206, model saved\n"
          ]
        },
        {
          "output_type": "stream",
          "name": "stderr",
          "text": [
            "Epoch: 2. Train.           Loss: 2.696 | Accuracy_exp: 0.595 | Accuracy_icm: 0.682 | Accuracy_troph: 0.660: 100%|██████████| 50/50 [00:11<00:00,  4.50it/s]\n",
            "Epoch: 2. Validation.      Loss: 2.688 | Accuracy_exp: 0.558 | Accuracy_icm: 0.673 | Accuracy_troph: 0.615: 100%|██████████| 13/13 [00:01<00:00,  9.51it/s]\n"
          ]
        },
        {
          "output_type": "stream",
          "name": "stdout",
          "text": [
            "new optimum reached, average accuracy = 0.6153846153846154, model saved\n"
          ]
        },
        {
          "output_type": "stream",
          "name": "stderr",
          "text": [
            "Epoch: 3. Train.           Loss: 2.475 | Accuracy_exp: 0.673 | Accuracy_icm: 0.700 | Accuracy_troph: 0.628: 100%|██████████| 50/50 [00:11<00:00,  4.41it/s]\n",
            "Epoch: 3. Validation.      Loss: 2.508 | Accuracy_exp: 0.827 | Accuracy_icm: 0.654 | Accuracy_troph: 0.615: 100%|██████████| 13/13 [00:01<00:00,  9.34it/s]\n"
          ]
        },
        {
          "output_type": "stream",
          "name": "stdout",
          "text": [
            "new optimum reached, average accuracy = 0.6987179487179488, model saved\n"
          ]
        },
        {
          "output_type": "stream",
          "name": "stderr",
          "text": [
            "Epoch: 4. Train.           Loss: 2.292 | Accuracy_exp: 0.743 | Accuracy_icm: 0.688 | Accuracy_troph: 0.675: 100%|██████████| 50/50 [00:11<00:00,  4.43it/s]\n",
            "Epoch: 4. Validation.      Loss: 2.421 | Accuracy_exp: 0.788 | Accuracy_icm: 0.635 | Accuracy_troph: 0.577: 100%|██████████| 13/13 [00:01<00:00,  9.29it/s]\n",
            "Epoch: 5. Train.           Loss: 2.184 | Accuracy_exp: 0.753 | Accuracy_icm: 0.693 | Accuracy_troph: 0.673: 100%|██████████| 50/50 [00:11<00:00,  4.48it/s]\n",
            "Epoch: 5. Validation.      Loss: 2.403 | Accuracy_exp: 0.712 | Accuracy_icm: 0.577 | Accuracy_troph: 0.596: 100%|██████████| 13/13 [00:01<00:00,  9.45it/s]\n",
            "Epoch: 6. Train.           Loss: 2.116 | Accuracy_exp: 0.730 | Accuracy_icm: 0.790 | Accuracy_troph: 0.663: 100%|██████████| 50/50 [00:11<00:00,  4.49it/s]\n",
            "Epoch: 6. Validation.      Loss: 2.428 | Accuracy_exp: 0.731 | Accuracy_icm: 0.577 | Accuracy_troph: 0.615: 100%|██████████| 13/13 [00:01<00:00,  9.49it/s]\n",
            "Epoch: 7. Train.           Loss: 1.866 | Accuracy_exp: 0.818 | Accuracy_icm: 0.757 | Accuracy_troph: 0.740: 100%|██████████| 50/50 [00:11<00:00,  4.48it/s]\n",
            "Epoch: 7. Validation.      Loss: 2.412 | Accuracy_exp: 0.788 | Accuracy_icm: 0.673 | Accuracy_troph: 0.596: 100%|██████████| 13/13 [00:01<00:00,  9.42it/s]\n",
            "Epoch: 8. Train.           Loss: 1.771 | Accuracy_exp: 0.835 | Accuracy_icm: 0.800 | Accuracy_troph: 0.737: 100%|██████████| 50/50 [00:11<00:00,  4.49it/s]\n",
            "Epoch: 8. Validation.      Loss: 2.388 | Accuracy_exp: 0.788 | Accuracy_icm: 0.635 | Accuracy_troph: 0.673: 100%|██████████| 13/13 [00:01<00:00,  8.09it/s]\n",
            "Epoch: 9. Train.           Loss: 1.775 | Accuracy_exp: 0.813 | Accuracy_icm: 0.748 | Accuracy_troph: 0.722: 100%|██████████| 50/50 [00:13<00:00,  3.82it/s]\n",
            "Epoch: 9. Validation.      Loss: 2.177 | Accuracy_exp: 0.865 | Accuracy_icm: 0.577 | Accuracy_troph: 0.654: 100%|██████████| 13/13 [00:01<00:00,  9.47it/s]\n",
            "Epoch: 10. Train.           Loss: 1.621 | Accuracy_exp: 0.813 | Accuracy_icm: 0.812 | Accuracy_troph: 0.768: 100%|██████████| 50/50 [00:12<00:00,  3.96it/s]\n",
            "Epoch: 10. Validation.      Loss: 2.259 | Accuracy_exp: 0.846 | Accuracy_icm: 0.596 | Accuracy_troph: 0.615: 100%|██████████| 13/13 [00:01<00:00,  9.43it/s]\n",
            "Epoch: 11. Train.           Loss: 1.526 | Accuracy_exp: 0.813 | Accuracy_icm: 0.833 | Accuracy_troph: 0.773: 100%|██████████| 50/50 [00:11<00:00,  4.50it/s]\n",
            "Epoch: 11. Validation.      Loss: 2.417 | Accuracy_exp: 0.788 | Accuracy_icm: 0.538 | Accuracy_troph: 0.615: 100%|██████████| 13/13 [00:01<00:00,  9.76it/s]\n",
            "Epoch: 12. Train.           Loss: 1.555 | Accuracy_exp: 0.835 | Accuracy_icm: 0.823 | Accuracy_troph: 0.795: 100%|██████████| 50/50 [00:11<00:00,  4.52it/s]\n",
            "Epoch: 12. Validation.      Loss: 2.268 | Accuracy_exp: 0.808 | Accuracy_icm: 0.654 | Accuracy_troph: 0.654: 100%|██████████| 13/13 [00:01<00:00,  9.57it/s]\n"
          ]
        },
        {
          "output_type": "stream",
          "name": "stdout",
          "text": [
            "new optimum reached, average accuracy = 0.7051282051282052, model saved\n"
          ]
        },
        {
          "output_type": "stream",
          "name": "stderr",
          "text": [
            "Epoch: 13. Train.           Loss: 1.317 | Accuracy_exp: 0.885 | Accuracy_icm: 0.868 | Accuracy_troph: 0.823: 100%|██████████| 50/50 [00:11<00:00,  4.39it/s]\n",
            "Epoch: 13. Validation.      Loss: 2.259 | Accuracy_exp: 0.808 | Accuracy_icm: 0.654 | Accuracy_troph: 0.635: 100%|██████████| 13/13 [00:01<00:00,  9.60it/s]\n",
            "Epoch: 14. Train.           Loss: 1.356 | Accuracy_exp: 0.835 | Accuracy_icm: 0.877 | Accuracy_troph: 0.810: 100%|██████████| 50/50 [00:11<00:00,  4.51it/s]\n",
            "Epoch: 14. Validation.      Loss: 2.378 | Accuracy_exp: 0.808 | Accuracy_icm: 0.596 | Accuracy_troph: 0.558: 100%|██████████| 13/13 [00:01<00:00,  9.56it/s]\n",
            "Epoch: 15. Train.           Loss: 1.291 | Accuracy_exp: 0.830 | Accuracy_icm: 0.865 | Accuracy_troph: 0.848: 100%|██████████| 50/50 [00:11<00:00,  4.51it/s]\n",
            "Epoch: 15. Validation.      Loss: 2.152 | Accuracy_exp: 0.827 | Accuracy_icm: 0.692 | Accuracy_troph: 0.712: 100%|██████████| 13/13 [00:01<00:00,  9.52it/s]\n"
          ]
        },
        {
          "output_type": "stream",
          "name": "stdout",
          "text": [
            "new optimum reached, average accuracy = 0.7435897435897436, model saved\n"
          ]
        },
        {
          "output_type": "stream",
          "name": "stderr",
          "text": [
            "Epoch: 16. Train.           Loss: 1.276 | Accuracy_exp: 0.848 | Accuracy_icm: 0.883 | Accuracy_troph: 0.858: 100%|██████████| 50/50 [00:11<00:00,  4.42it/s]\n",
            "Epoch: 16. Validation.      Loss: 2.437 | Accuracy_exp: 0.865 | Accuracy_icm: 0.596 | Accuracy_troph: 0.635: 100%|██████████| 13/13 [00:01<00:00,  9.47it/s]\n",
            "Epoch: 17. Train.           Loss: 1.215 | Accuracy_exp: 0.853 | Accuracy_icm: 0.895 | Accuracy_troph: 0.845: 100%|██████████| 50/50 [00:11<00:00,  4.30it/s]\n",
            "Epoch: 17. Validation.      Loss: 2.482 | Accuracy_exp: 0.865 | Accuracy_icm: 0.558 | Accuracy_troph: 0.596: 100%|██████████| 13/13 [00:01<00:00,  9.52it/s]\n",
            "Epoch: 18. Train.           Loss: 1.081 | Accuracy_exp: 0.912 | Accuracy_icm: 0.900 | Accuracy_troph: 0.850: 100%|██████████| 50/50 [00:11<00:00,  4.42it/s]\n",
            "Epoch: 18. Validation.      Loss: 2.523 | Accuracy_exp: 0.769 | Accuracy_icm: 0.692 | Accuracy_troph: 0.615: 100%|██████████| 13/13 [00:01<00:00,  9.55it/s]\n",
            "Epoch: 19. Train.           Loss: 1.154 | Accuracy_exp: 0.905 | Accuracy_icm: 0.865 | Accuracy_troph: 0.883: 100%|██████████| 50/50 [00:11<00:00,  4.45it/s]\n",
            "Epoch: 19. Validation.      Loss: 2.499 | Accuracy_exp: 0.827 | Accuracy_icm: 0.654 | Accuracy_troph: 0.577: 100%|██████████| 13/13 [00:01<00:00,  9.45it/s]\n",
            "Epoch: 20. Train.           Loss: 1.076 | Accuracy_exp: 0.910 | Accuracy_icm: 0.883 | Accuracy_troph: 0.843: 100%|██████████| 50/50 [00:11<00:00,  4.46it/s]\n",
            "Epoch: 20. Validation.      Loss: 2.439 | Accuracy_exp: 0.827 | Accuracy_icm: 0.635 | Accuracy_troph: 0.615: 100%|██████████| 13/13 [00:01<00:00,  9.28it/s]\n"
          ]
        },
        {
          "output_type": "stream",
          "name": "stdout",
          "text": [
            "Best validation accuracy = 0.7435897435897436\n",
            "---FOLD 4---\n"
          ]
        },
        {
          "output_type": "stream",
          "name": "stderr",
          "text": [
            "Epoch: 1. Train.           Loss: 3.091 | Accuracy_exp: 0.423 | Accuracy_icm: 0.625 | Accuracy_troph: 0.487: 100%|██████████| 50/50 [00:11<00:00,  4.45it/s]\n",
            "Epoch: 1. Validation.      Loss: 2.962 | Accuracy_exp: 0.462 | Accuracy_icm: 0.635 | Accuracy_troph: 0.481: 100%|██████████| 13/13 [00:01<00:00,  8.81it/s]\n"
          ]
        },
        {
          "output_type": "stream",
          "name": "stdout",
          "text": [
            "new optimum reached, average accuracy = 0.5256410256410257, model saved\n"
          ]
        },
        {
          "output_type": "stream",
          "name": "stderr",
          "text": [
            "Epoch: 2. Train.           Loss: 2.680 | Accuracy_exp: 0.580 | Accuracy_icm: 0.703 | Accuracy_troph: 0.588: 100%|██████████| 50/50 [00:11<00:00,  4.32it/s]\n",
            "Epoch: 2. Validation.      Loss: 2.748 | Accuracy_exp: 0.788 | Accuracy_icm: 0.577 | Accuracy_troph: 0.519: 100%|██████████| 13/13 [00:01<00:00,  8.99it/s]\n"
          ]
        },
        {
          "output_type": "stream",
          "name": "stdout",
          "text": [
            "new optimum reached, average accuracy = 0.6282051282051282, model saved\n"
          ]
        },
        {
          "output_type": "stream",
          "name": "stderr",
          "text": [
            "Epoch: 3. Train.           Loss: 2.436 | Accuracy_exp: 0.657 | Accuracy_icm: 0.723 | Accuracy_troph: 0.643: 100%|██████████| 50/50 [00:11<00:00,  4.39it/s]\n",
            "Epoch: 3. Validation.      Loss: 2.496 | Accuracy_exp: 0.788 | Accuracy_icm: 0.654 | Accuracy_troph: 0.538: 100%|██████████| 13/13 [00:01<00:00,  8.67it/s]\n"
          ]
        },
        {
          "output_type": "stream",
          "name": "stdout",
          "text": [
            "new optimum reached, average accuracy = 0.6602564102564102, model saved\n"
          ]
        },
        {
          "output_type": "stream",
          "name": "stderr",
          "text": [
            "Epoch: 4. Train.           Loss: 2.247 | Accuracy_exp: 0.737 | Accuracy_icm: 0.723 | Accuracy_troph: 0.680: 100%|██████████| 50/50 [00:11<00:00,  4.38it/s]\n",
            "Epoch: 4. Validation.      Loss: 2.392 | Accuracy_exp: 0.865 | Accuracy_icm: 0.712 | Accuracy_troph: 0.538: 100%|██████████| 13/13 [00:01<00:00,  9.15it/s]\n"
          ]
        },
        {
          "output_type": "stream",
          "name": "stdout",
          "text": [
            "new optimum reached, average accuracy = 0.7051282051282052, model saved\n"
          ]
        },
        {
          "output_type": "stream",
          "name": "stderr",
          "text": [
            "Epoch: 5. Train.           Loss: 2.134 | Accuracy_exp: 0.760 | Accuracy_icm: 0.757 | Accuracy_troph: 0.643: 100%|██████████| 50/50 [00:11<00:00,  4.36it/s]\n",
            "Epoch: 5. Validation.      Loss: 2.341 | Accuracy_exp: 0.846 | Accuracy_icm: 0.692 | Accuracy_troph: 0.577: 100%|██████████| 13/13 [00:01<00:00,  8.98it/s]\n",
            "Epoch: 6. Train.           Loss: 1.949 | Accuracy_exp: 0.818 | Accuracy_icm: 0.755 | Accuracy_troph: 0.657: 100%|██████████| 50/50 [00:11<00:00,  4.48it/s]\n",
            "Epoch: 6. Validation.      Loss: 2.386 | Accuracy_exp: 0.750 | Accuracy_icm: 0.673 | Accuracy_troph: 0.538: 100%|██████████| 13/13 [00:01<00:00,  9.20it/s]\n",
            "Epoch: 7. Train.           Loss: 1.965 | Accuracy_exp: 0.795 | Accuracy_icm: 0.747 | Accuracy_troph: 0.685: 100%|██████████| 50/50 [00:11<00:00,  4.48it/s]\n",
            "Epoch: 7. Validation.      Loss: 2.134 | Accuracy_exp: 0.885 | Accuracy_icm: 0.808 | Accuracy_troph: 0.596: 100%|██████████| 13/13 [00:01<00:00,  9.33it/s]\n"
          ]
        },
        {
          "output_type": "stream",
          "name": "stdout",
          "text": [
            "new optimum reached, average accuracy = 0.7628205128205128, model saved\n"
          ]
        },
        {
          "output_type": "stream",
          "name": "stderr",
          "text": [
            "Epoch: 8. Train.           Loss: 1.873 | Accuracy_exp: 0.828 | Accuracy_icm: 0.747 | Accuracy_troph: 0.665: 100%|██████████| 50/50 [00:11<00:00,  4.36it/s]\n",
            "Epoch: 8. Validation.      Loss: 2.204 | Accuracy_exp: 0.846 | Accuracy_icm: 0.827 | Accuracy_troph: 0.538: 100%|██████████| 13/13 [00:01<00:00,  9.10it/s]\n",
            "Epoch: 9. Train.           Loss: 1.753 | Accuracy_exp: 0.807 | Accuracy_icm: 0.813 | Accuracy_troph: 0.737: 100%|██████████| 50/50 [00:11<00:00,  4.46it/s]\n",
            "Epoch: 9. Validation.      Loss: 2.256 | Accuracy_exp: 0.846 | Accuracy_icm: 0.750 | Accuracy_troph: 0.577: 100%|██████████| 13/13 [00:01<00:00,  9.21it/s]\n",
            "Epoch: 10. Train.           Loss: 1.608 | Accuracy_exp: 0.830 | Accuracy_icm: 0.798 | Accuracy_troph: 0.770: 100%|██████████| 50/50 [00:11<00:00,  4.47it/s]\n",
            "Epoch: 10. Validation.      Loss: 2.249 | Accuracy_exp: 0.827 | Accuracy_icm: 0.731 | Accuracy_troph: 0.519: 100%|██████████| 13/13 [00:01<00:00,  9.21it/s]\n",
            "Epoch: 11. Train.           Loss: 1.499 | Accuracy_exp: 0.888 | Accuracy_icm: 0.833 | Accuracy_troph: 0.760: 100%|██████████| 50/50 [00:11<00:00,  4.44it/s]\n",
            "Epoch: 11. Validation.      Loss: 2.051 | Accuracy_exp: 0.885 | Accuracy_icm: 0.635 | Accuracy_troph: 0.577: 100%|██████████| 13/13 [00:01<00:00,  8.94it/s]\n",
            "Epoch: 12. Train.           Loss: 1.383 | Accuracy_exp: 0.855 | Accuracy_icm: 0.860 | Accuracy_troph: 0.755: 100%|██████████| 50/50 [00:11<00:00,  4.42it/s]\n",
            "Epoch: 12. Validation.      Loss: 2.330 | Accuracy_exp: 0.885 | Accuracy_icm: 0.692 | Accuracy_troph: 0.673: 100%|██████████| 13/13 [00:01<00:00,  9.15it/s]\n",
            "Epoch: 13. Train.           Loss: 1.389 | Accuracy_exp: 0.820 | Accuracy_icm: 0.833 | Accuracy_troph: 0.768: 100%|██████████| 50/50 [00:11<00:00,  4.48it/s]\n",
            "Epoch: 13. Validation.      Loss: 2.239 | Accuracy_exp: 0.865 | Accuracy_icm: 0.769 | Accuracy_troph: 0.615: 100%|██████████| 13/13 [00:01<00:00,  9.17it/s]\n",
            "Epoch: 14. Train.           Loss: 1.286 | Accuracy_exp: 0.863 | Accuracy_icm: 0.865 | Accuracy_troph: 0.843: 100%|██████████| 50/50 [00:11<00:00,  4.49it/s]\n",
            "Epoch: 14. Validation.      Loss: 2.246 | Accuracy_exp: 0.865 | Accuracy_icm: 0.769 | Accuracy_troph: 0.615: 100%|██████████| 13/13 [00:01<00:00,  9.12it/s]\n",
            "Epoch: 15. Train.           Loss: 1.245 | Accuracy_exp: 0.855 | Accuracy_icm: 0.850 | Accuracy_troph: 0.858: 100%|██████████| 50/50 [00:11<00:00,  4.45it/s]\n",
            "Epoch: 15. Validation.      Loss: 2.638 | Accuracy_exp: 0.885 | Accuracy_icm: 0.635 | Accuracy_troph: 0.481: 100%|██████████| 13/13 [00:01<00:00,  9.26it/s]\n",
            "Epoch: 16. Train.           Loss: 1.159 | Accuracy_exp: 0.925 | Accuracy_icm: 0.865 | Accuracy_troph: 0.795: 100%|██████████| 50/50 [00:11<00:00,  4.43it/s]\n",
            "Epoch: 16. Validation.      Loss: 2.482 | Accuracy_exp: 0.865 | Accuracy_icm: 0.692 | Accuracy_troph: 0.558: 100%|██████████| 13/13 [00:01<00:00,  9.02it/s]\n",
            "Epoch: 17. Train.           Loss: 1.030 | Accuracy_exp: 0.930 | Accuracy_icm: 0.885 | Accuracy_troph: 0.860: 100%|██████████| 50/50 [00:11<00:00,  4.42it/s]\n",
            "Epoch: 17. Validation.      Loss: 2.471 | Accuracy_exp: 0.885 | Accuracy_icm: 0.731 | Accuracy_troph: 0.596: 100%|██████████| 13/13 [00:01<00:00,  9.21it/s]\n",
            "Epoch: 18. Train.           Loss: 1.121 | Accuracy_exp: 0.865 | Accuracy_icm: 0.910 | Accuracy_troph: 0.815: 100%|██████████| 50/50 [00:11<00:00,  4.44it/s]\n",
            "Epoch: 18. Validation.      Loss: 2.259 | Accuracy_exp: 0.885 | Accuracy_icm: 0.692 | Accuracy_troph: 0.654: 100%|██████████| 13/13 [00:01<00:00,  8.93it/s]\n",
            "Epoch: 19. Train.           Loss: 1.149 | Accuracy_exp: 0.900 | Accuracy_icm: 0.880 | Accuracy_troph: 0.833: 100%|██████████| 50/50 [00:11<00:00,  4.43it/s]\n",
            "Epoch: 19. Validation.      Loss: 2.609 | Accuracy_exp: 0.865 | Accuracy_icm: 0.673 | Accuracy_troph: 0.519: 100%|██████████| 13/13 [00:01<00:00,  9.00it/s]\n",
            "Epoch: 20. Train.           Loss: 0.941 | Accuracy_exp: 0.905 | Accuracy_icm: 0.915 | Accuracy_troph: 0.867: 100%|██████████| 50/50 [00:11<00:00,  4.44it/s]\n",
            "Epoch: 20. Validation.      Loss: 2.266 | Accuracy_exp: 0.865 | Accuracy_icm: 0.731 | Accuracy_troph: 0.654: 100%|██████████| 13/13 [00:01<00:00,  8.90it/s]\n"
          ]
        },
        {
          "output_type": "stream",
          "name": "stdout",
          "text": [
            "Best validation accuracy = 0.7628205128205128\n",
            "---FOLD 5---\n"
          ]
        },
        {
          "output_type": "stream",
          "name": "stderr",
          "text": [
            "Epoch: 1. Train.           Loss: 3.082 | Accuracy_exp: 0.415 | Accuracy_icm: 0.595 | Accuracy_troph: 0.425: 100%|██████████| 50/50 [00:11<00:00,  4.41it/s]\n",
            "Epoch: 1. Validation.      Loss: 2.831 | Accuracy_exp: 0.519 | Accuracy_icm: 0.731 | Accuracy_troph: 0.615: 100%|██████████| 13/13 [00:01<00:00,  9.38it/s]\n"
          ]
        },
        {
          "output_type": "stream",
          "name": "stdout",
          "text": [
            "new optimum reached, average accuracy = 0.6217948717948718, model saved\n"
          ]
        },
        {
          "output_type": "stream",
          "name": "stderr",
          "text": [
            "Epoch: 2. Train.           Loss: 2.711 | Accuracy_exp: 0.625 | Accuracy_icm: 0.670 | Accuracy_troph: 0.565: 100%|██████████| 50/50 [00:11<00:00,  4.35it/s]\n",
            "Epoch: 2. Validation.      Loss: 2.480 | Accuracy_exp: 0.904 | Accuracy_icm: 0.596 | Accuracy_troph: 0.519: 100%|██████████| 13/13 [00:01<00:00,  9.21it/s]\n"
          ]
        },
        {
          "output_type": "stream",
          "name": "stdout",
          "text": [
            "new optimum reached, average accuracy = 0.673076923076923, model saved\n"
          ]
        },
        {
          "output_type": "stream",
          "name": "stderr",
          "text": [
            "Epoch: 3. Train.           Loss: 2.484 | Accuracy_exp: 0.690 | Accuracy_icm: 0.700 | Accuracy_troph: 0.635: 100%|██████████| 50/50 [00:11<00:00,  4.29it/s]\n",
            "Epoch: 3. Validation.      Loss: 2.358 | Accuracy_exp: 0.904 | Accuracy_icm: 0.615 | Accuracy_troph: 0.558: 100%|██████████| 13/13 [00:01<00:00,  9.37it/s]\n"
          ]
        },
        {
          "output_type": "stream",
          "name": "stdout",
          "text": [
            "new optimum reached, average accuracy = 0.6923076923076922, model saved\n"
          ]
        },
        {
          "output_type": "stream",
          "name": "stderr",
          "text": [
            "Epoch: 4. Train.           Loss: 2.215 | Accuracy_exp: 0.785 | Accuracy_icm: 0.675 | Accuracy_troph: 0.640: 100%|██████████| 50/50 [00:11<00:00,  4.35it/s]\n",
            "Epoch: 4. Validation.      Loss: 2.173 | Accuracy_exp: 0.904 | Accuracy_icm: 0.519 | Accuracy_troph: 0.500: 100%|██████████| 13/13 [00:01<00:00,  9.18it/s]\n",
            "Epoch: 5. Train.           Loss: 2.169 | Accuracy_exp: 0.755 | Accuracy_icm: 0.705 | Accuracy_troph: 0.605: 100%|██████████| 50/50 [00:11<00:00,  4.45it/s]\n",
            "Epoch: 5. Validation.      Loss: 2.132 | Accuracy_exp: 0.904 | Accuracy_icm: 0.577 | Accuracy_troph: 0.577: 100%|██████████| 13/13 [00:01<00:00,  9.29it/s]\n",
            "Epoch: 6. Train.           Loss: 2.096 | Accuracy_exp: 0.745 | Accuracy_icm: 0.760 | Accuracy_troph: 0.670: 100%|██████████| 50/50 [00:11<00:00,  4.43it/s]\n",
            "Epoch: 6. Validation.      Loss: 1.972 | Accuracy_exp: 0.827 | Accuracy_icm: 0.788 | Accuracy_troph: 0.654: 100%|██████████| 13/13 [00:01<00:00,  9.59it/s]\n"
          ]
        },
        {
          "output_type": "stream",
          "name": "stdout",
          "text": [
            "new optimum reached, average accuracy = 0.7564102564102564, model saved\n"
          ]
        },
        {
          "output_type": "stream",
          "name": "stderr",
          "text": [
            "Epoch: 7. Train.           Loss: 1.925 | Accuracy_exp: 0.830 | Accuracy_icm: 0.790 | Accuracy_troph: 0.660: 100%|██████████| 50/50 [00:11<00:00,  4.36it/s]\n",
            "Epoch: 7. Validation.      Loss: 1.897 | Accuracy_exp: 0.904 | Accuracy_icm: 0.654 | Accuracy_troph: 0.635: 100%|██████████| 13/13 [00:01<00:00,  9.17it/s]\n",
            "Epoch: 8. Train.           Loss: 1.871 | Accuracy_exp: 0.785 | Accuracy_icm: 0.730 | Accuracy_troph: 0.680: 100%|██████████| 50/50 [00:11<00:00,  4.38it/s]\n",
            "Epoch: 8. Validation.      Loss: 1.931 | Accuracy_exp: 0.904 | Accuracy_icm: 0.577 | Accuracy_troph: 0.596: 100%|██████████| 13/13 [00:01<00:00,  9.29it/s]\n",
            "Epoch: 9. Train.           Loss: 1.706 | Accuracy_exp: 0.810 | Accuracy_icm: 0.765 | Accuracy_troph: 0.750: 100%|██████████| 50/50 [00:11<00:00,  4.45it/s]\n",
            "Epoch: 9. Validation.      Loss: 1.903 | Accuracy_exp: 0.808 | Accuracy_icm: 0.654 | Accuracy_troph: 0.692: 100%|██████████| 13/13 [00:01<00:00,  9.42it/s]\n",
            "Epoch: 10. Train.           Loss: 1.752 | Accuracy_exp: 0.825 | Accuracy_icm: 0.735 | Accuracy_troph: 0.780: 100%|██████████| 50/50 [00:11<00:00,  4.43it/s]\n",
            "Epoch: 10. Validation.      Loss: 1.721 | Accuracy_exp: 0.827 | Accuracy_icm: 0.750 | Accuracy_troph: 0.635: 100%|██████████| 13/13 [00:01<00:00,  9.43it/s]\n",
            "Epoch: 11. Train.           Loss: 1.549 | Accuracy_exp: 0.870 | Accuracy_icm: 0.805 | Accuracy_troph: 0.800: 100%|██████████| 50/50 [00:11<00:00,  4.47it/s]\n",
            "Epoch: 11. Validation.      Loss: 1.818 | Accuracy_exp: 0.923 | Accuracy_icm: 0.596 | Accuracy_troph: 0.615: 100%|██████████| 13/13 [00:01<00:00,  9.48it/s]\n",
            "Epoch: 12. Train.           Loss: 1.536 | Accuracy_exp: 0.825 | Accuracy_icm: 0.830 | Accuracy_troph: 0.775: 100%|██████████| 50/50 [00:11<00:00,  4.42it/s]\n",
            "Epoch: 12. Validation.      Loss: 1.722 | Accuracy_exp: 0.904 | Accuracy_icm: 0.808 | Accuracy_troph: 0.673: 100%|██████████| 13/13 [00:01<00:00,  9.26it/s]\n"
          ]
        },
        {
          "output_type": "stream",
          "name": "stdout",
          "text": [
            "new optimum reached, average accuracy = 0.794871794871795, model saved\n"
          ]
        },
        {
          "output_type": "stream",
          "name": "stderr",
          "text": [
            "Epoch: 13. Train.           Loss: 1.400 | Accuracy_exp: 0.845 | Accuracy_icm: 0.845 | Accuracy_troph: 0.805: 100%|██████████| 50/50 [00:11<00:00,  4.33it/s]\n",
            "Epoch: 13. Validation.      Loss: 1.882 | Accuracy_exp: 0.865 | Accuracy_icm: 0.769 | Accuracy_troph: 0.462: 100%|██████████| 13/13 [00:01<00:00,  9.34it/s]\n",
            "Epoch: 14. Train.           Loss: 1.387 | Accuracy_exp: 0.890 | Accuracy_icm: 0.810 | Accuracy_troph: 0.785: 100%|██████████| 50/50 [00:11<00:00,  4.40it/s]\n",
            "Epoch: 14. Validation.      Loss: 1.752 | Accuracy_exp: 0.904 | Accuracy_icm: 0.808 | Accuracy_troph: 0.596: 100%|██████████| 13/13 [00:01<00:00,  9.34it/s]\n",
            "Epoch: 15. Train.           Loss: 1.283 | Accuracy_exp: 0.875 | Accuracy_icm: 0.890 | Accuracy_troph: 0.825: 100%|██████████| 50/50 [00:11<00:00,  4.46it/s]\n",
            "Epoch: 15. Validation.      Loss: 1.678 | Accuracy_exp: 0.904 | Accuracy_icm: 0.750 | Accuracy_troph: 0.654: 100%|██████████| 13/13 [00:01<00:00,  9.53it/s]\n",
            "Epoch: 16. Train.           Loss: 1.277 | Accuracy_exp: 0.855 | Accuracy_icm: 0.850 | Accuracy_troph: 0.805: 100%|██████████| 50/50 [00:11<00:00,  4.41it/s]\n",
            "Epoch: 16. Validation.      Loss: 1.701 | Accuracy_exp: 0.827 | Accuracy_icm: 0.827 | Accuracy_troph: 0.788: 100%|██████████| 13/13 [00:01<00:00,  9.50it/s]\n"
          ]
        },
        {
          "output_type": "stream",
          "name": "stdout",
          "text": [
            "new optimum reached, average accuracy = 0.814102564102564, model saved\n"
          ]
        },
        {
          "output_type": "stream",
          "name": "stderr",
          "text": [
            "Epoch: 17. Train.           Loss: 1.160 | Accuracy_exp: 0.905 | Accuracy_icm: 0.860 | Accuracy_troph: 0.810: 100%|██████████| 50/50 [00:11<00:00,  4.33it/s]\n",
            "Epoch: 17. Validation.      Loss: 1.754 | Accuracy_exp: 0.904 | Accuracy_icm: 0.654 | Accuracy_troph: 0.750: 100%|██████████| 13/13 [00:01<00:00,  9.44it/s]\n",
            "Epoch: 18. Train.           Loss: 1.178 | Accuracy_exp: 0.870 | Accuracy_icm: 0.840 | Accuracy_troph: 0.880: 100%|██████████| 50/50 [00:11<00:00,  4.43it/s]\n",
            "Epoch: 18. Validation.      Loss: 1.900 | Accuracy_exp: 0.846 | Accuracy_icm: 0.635 | Accuracy_troph: 0.635: 100%|██████████| 13/13 [00:01<00:00,  9.45it/s]\n",
            "Epoch: 19. Train.           Loss: 1.152 | Accuracy_exp: 0.890 | Accuracy_icm: 0.855 | Accuracy_troph: 0.855: 100%|██████████| 50/50 [00:11<00:00,  4.46it/s]\n",
            "Epoch: 19. Validation.      Loss: 1.739 | Accuracy_exp: 0.923 | Accuracy_icm: 0.731 | Accuracy_troph: 0.712: 100%|██████████| 13/13 [00:01<00:00,  9.36it/s]\n",
            "Epoch: 20. Train.           Loss: 1.110 | Accuracy_exp: 0.905 | Accuracy_icm: 0.870 | Accuracy_troph: 0.860: 100%|██████████| 50/50 [00:11<00:00,  4.47it/s]\n",
            "Epoch: 20. Validation.      Loss: 1.837 | Accuracy_exp: 0.846 | Accuracy_icm: 0.615 | Accuracy_troph: 0.692: 100%|██████████| 13/13 [00:01<00:00,  9.48it/s]"
          ]
        },
        {
          "output_type": "stream",
          "name": "stdout",
          "text": [
            "Best validation accuracy = 0.814102564102564\n"
          ]
        },
        {
          "output_type": "stream",
          "name": "stderr",
          "text": [
            "\n"
          ]
        }
      ],
      "source": [
        "kfold = KFold(n_splits=params['folds'], shuffle=False)\n",
        "metrics_by_fold = {}\n",
        "\n",
        "split = list(enumerate(kfold.split(train_dataset)))\n",
        "for fold, (train_ids, val_ids) in split:\n",
        "    print(f'---FOLD {fold + 1}---')\n",
        "    xception_model = timm.create_model('xception', pretrained=True)\n",
        "    model = CompositeModel(xception_model)\n",
        "    train_subsampler = torch.utils.data.SubsetRandomSampler(train_ids)\n",
        "    val_subsampler = torch.utils.data.SubsetRandomSampler(val_ids)\n",
        "    train_loader = DataLoader(train_dataset, batch_size=params[\"batch_size\"], sampler=train_subsampler)\n",
        "    val_loader = DataLoader(val_dataset, batch_size=params[\"batch_size\"], sampler=val_subsampler)\n",
        "    criterion1 = nn.CrossEntropyLoss(weight=weights[0])\n",
        "    criterion2 = nn.CrossEntropyLoss(weight=weights[1])\n",
        "    criterion3 = nn.CrossEntropyLoss(weight=weights[2])\n",
        "    if device.type == 'cuda':\n",
        "        model = model.to(device)\n",
        "        criterion1 = criterion1.to(device)\n",
        "        criterion2 = criterion2.to(device)\n",
        "        criterion3 = criterion3.to(device)\n",
        "\n",
        "    optimizer = torch.optim.AdamW(model.parameters(), lr=params[\"lr\"])\n",
        "    scheduler = torch.optim.lr_scheduler.ReduceLROnPlateau(optimizer, verbose=True)\n",
        "\n",
        "    acc_avg = 0\n",
        "    metrics = []\n",
        "    for epoch in range(1, params[\"epochs\"] + 1):\n",
        "        train_metrics = train(train_loader, model, criterion1, criterion2, criterion3, optimizer, epoch, params)\n",
        "        val_metrics = validate(val_loader, model, criterion1, criterion2, criterion3, epoch, params)\n",
        "        scheduler.step(val_metrics[0])\n",
        "        metrics.append({'train_metrics': train_metrics,\n",
        "                        'val_metrics': val_metrics})\n",
        "        if acc_avg < sum(val_metrics[1:]) / 3:\n",
        "            acc_avg = sum(val_metrics[1:]) / 3\n",
        "            torch.save(model.state_dict(), f\"/content/drive/MyDrive/classification_model_xception_fold{fold}.pth\")\n",
        "            print(f'new optimum reached, average accuracy = {acc_avg}, model saved')\n",
        "    metrics_by_fold[fold] = metrics\n",
        "    print(f'Best validation accuracy = {acc_avg}')"
      ]
    },
    {
      "cell_type": "code",
      "execution_count": null,
      "metadata": {
        "colab": {
          "base_uri": "https://localhost:8080/"
        },
        "id": "L0PGgYcllALP",
        "outputId": "5f07bcc1-e81c-4878-ee96-d79feec5552d"
      },
      "outputs": [
        {
          "output_type": "stream",
          "name": "stdout",
          "text": [
            "{0: 11, 1: 9, 2: 14, 3: 10, 4: 14}\n",
            "[0.8346153846153846, 0.7346153846153846, 0.6576923076923078]\n"
          ]
        }
      ],
      "source": [
        "def find_best_epoch(metrics_by_fold):\n",
        "    folds = metrics_by_fold.keys()\n",
        "    epochs = [999] * len(metrics_by_fold.keys())\n",
        "    res = dict(zip(folds, epochs))\n",
        "    for fold in metrics_by_fold.keys():\n",
        "        best_pos = 0\n",
        "        best_val = 999\n",
        "        for i, epoch in enumerate(metrics_by_fold[fold]):\n",
        "            if epoch['val_metrics'][0] < best_val:\n",
        "                best_pos = i\n",
        "                best_val = epoch['val_metrics'][0]\n",
        "                res[fold] = best_pos\n",
        "    return res\n",
        "\n",
        "best_epochs = find_best_epoch(metrics_by_fold)\n",
        "print(best_epochs)\n",
        "\n",
        "def find_avg_accuracies(metrics_by_fold, best_epochs):\n",
        "    accs = []\n",
        "    for i in range(1, 4):\n",
        "        acc = 0\n",
        "        for fold in metrics_by_fold.keys():\n",
        "            fold_acc = metrics_by_fold[fold][best_epochs[fold]]['val_metrics'][i]\n",
        "            acc += fold_acc\n",
        "        acc /= len(metrics_by_fold.keys())\n",
        "        accs.append(acc)\n",
        "    return accs\n",
        "\n",
        "print(find_avg_accuracies(metrics_by_fold, best_epochs))\n",
        "\n",
        "def avg_metric_by_epoch(metrics_by_fold, train=True):\n",
        "    res = {'loss': [],\n",
        "        'avg_exp': [],\n",
        "            'avg_icm': [],\n",
        "            'avg_te': []}\n",
        "    metrics_set = 'train_metrics' if train else 'val_metrics'\n",
        "\n",
        "    for epoch in range(params['epochs']):\n",
        "        for i, metric in enumerate(res.keys()):\n",
        "            metric_avg = 0\n",
        "            for fold in metrics_by_fold.keys():\n",
        "                metric_avg += metrics_by_fold[fold][epoch][metrics_set][i]\n",
        "            metric_avg /= len(metrics_by_fold.keys())\n",
        "            res[metric].append(metric_avg)\n",
        "\n",
        "    return res\n",
        "train_loss_avg = avg_metric_by_epoch(metrics_by_fold, train=True)['loss']\n",
        "val_loss_avg = avg_metric_by_epoch(metrics_by_fold, train=False)['loss']\n"
      ]
    },
    {
      "cell_type": "code",
      "execution_count": null,
      "metadata": {
        "colab": {
          "base_uri": "https://localhost:8080/"
        },
        "id": "o_MTQ5q7f0TE",
        "outputId": "9340aea9-46f4-4440-f4f8-5911ff6fb2d8"
      },
      "outputs": [
        {
          "output_type": "execute_result",
          "data": {
            "text/plain": [
              "<All keys matched successfully>"
            ]
          },
          "metadata": {},
          "execution_count": 29
        }
      ],
      "source": [
        "model.load_state_dict(torch.load(f\"/content/drive/MyDrive/classification_model_xception_fold{fold}.pth\", map_location=torch.device('cpu')))"
      ]
    },
    {
      "cell_type": "code",
      "execution_count": null,
      "metadata": {
        "colab": {
          "base_uri": "https://localhost:8080/",
          "height": 370
        },
        "id": "cLlGd-K_wqBZ",
        "outputId": "002cc97b-2c35-4bee-c09b-7f0a506d66ca"
      },
      "outputs": [
        {
          "output_type": "display_data",
          "data": {
            "image/png": "[encoded data removed]",
            "text/plain": [
              "<Figure size 432x360 with 1 Axes>"
            ]
          },
          "metadata": {
            "needs_background": "light"
          }
        }
      ],
      "source": [
        "from matplotlib.ticker import MaxNLocator\n",
        "\n",
        "def plot_losses(train_loss, val_loss, ax, i=0):\n",
        "    # ax.set_title(f'Потери по {i + 1} фолду')\n",
        "    epochs = range(1, len(train_loss) + 1)\n",
        "    sns.lineplot(x=epochs, y=train_loss, label='Потери при тренировке', ax=ax, color='teal', alpha=0.5 + i/20)\n",
        "    sns.lineplot(x=epochs, y=val_loss, label='Потери при валидации', ax=ax, color='orange', alpha=0.5 + i/20)\n",
        "    ax.xaxis.set_major_locator(MaxNLocator(integer=True))\n",
        "    ax.set(xlabel='Эпоха', ylabel='Потери')\n",
        "    # plt.xlabel('Эпоха')\n",
        "    # plt.ylabel('Потери')\n",
        "    ax.get_legend().remove()\n",
        "# plot_losses(train_loss_avg, val_loss_avg)\n",
        "\n",
        "def plot_losses_by_fold():\n",
        "    fig, ax = plt.subplots(1, 1, figsize=(6, 5))\n",
        "    for i, fold in enumerate(metrics_by_fold.keys()):\n",
        "        train_loss = [x['train_metrics'][0] for x in metrics_by_fold[fold]]\n",
        "        val_loss = [x['val_metrics'][0] for x in metrics_by_fold[fold]]\n",
        "        plot_losses(train_loss, val_loss, ax=ax, i=i)\n",
        "    plt.suptitle('Потери Xception классификатора по фолдам')\n",
        "plot_losses_by_fold()"
      ]
    },
    {
      "cell_type": "code",
      "execution_count": null,
      "metadata": {
        "colab": {
          "base_uri": "https://localhost:8080/",
          "height": 1000
        },
        "id": "dJfhcP4-grn0",
        "outputId": "ef599580-9739-495d-e099-63a52d1e681e"
      },
      "outputs": [
        {
          "output_type": "stream",
          "name": "stdout",
          "text": [
            "---FOLD 1---\n"
          ]
        },
        {
          "output_type": "stream",
          "name": "stderr",
          "text": [
            "100%|██████████| 13/13 [00:01<00:00,  9.35it/s]\n"
          ]
        },
        {
          "output_type": "stream",
          "name": "stdout",
          "text": [
            "---FOLD 2---\n"
          ]
        },
        {
          "output_type": "stream",
          "name": "stderr",
          "text": [
            "100%|██████████| 13/13 [00:01<00:00,  9.90it/s]\n"
          ]
        },
        {
          "output_type": "stream",
          "name": "stdout",
          "text": [
            "---FOLD 3---\n"
          ]
        },
        {
          "output_type": "stream",
          "name": "stderr",
          "text": [
            "100%|██████████| 13/13 [00:01<00:00,  9.50it/s]\n"
          ]
        },
        {
          "output_type": "stream",
          "name": "stdout",
          "text": [
            "---FOLD 4---\n"
          ]
        },
        {
          "output_type": "stream",
          "name": "stderr",
          "text": [
            "100%|██████████| 13/13 [00:01<00:00,  9.44it/s]\n"
          ]
        },
        {
          "output_type": "stream",
          "name": "stdout",
          "text": [
            "---FOLD 5---\n"
          ]
        },
        {
          "output_type": "stream",
          "name": "stderr",
          "text": [
            "100%|██████████| 13/13 [00:01<00:00,  9.72it/s]\n"
          ]
        },
        {
          "output_type": "display_data",
          "data": {
            "image/png": "[encoded data removed]",
            "text/plain": [
              "<Figure size 1080x1800 with 30 Axes>"
            ]
          },
          "metadata": {
            "needs_background": "light"
          }
        }
      ],
      "source": [
        "def plot_confusion_matrices(loader, ax):\n",
        "    n_classes = 3\n",
        "    classes_numbered = [2, 3, 4]\n",
        "    classes_lettered = ['A', 'B', 'C']\n",
        "    # fig, ax = plt.subplots(1,3, figsize=(15,5))\n",
        "\n",
        "    matrices = torch.zeros(3, n_classes, n_classes)\n",
        "    messages = ['класс\\n\"Степень развития\"',\n",
        "                'класс\\n\"Качество внутриклеточной массы\"',\n",
        "                'класс\\n\"Качество трофобласта\"']\n",
        "    with torch.no_grad():\n",
        "        for images, labels in tqdm(loader):\n",
        "            images = images.to(device)\n",
        "            labels = labels.to(device)\n",
        "            results = model(images)\n",
        "\n",
        "            for i, matrix in enumerate(matrices):\n",
        "                for t, p in zip(torch.max(results[i], 1).indices.view(-1), labels[:, i].view(-1)):\n",
        "                    matrix[t.long(), p.long()] += 1\n",
        "\n",
        "        for i, matrix in enumerate(matrices):\n",
        "            classes = classes_numbered if i==0 else classes_lettered\n",
        "            disp_exp = ConfusionMatrixDisplay(confusion_matrix=matrix.numpy(), display_labels=classes)\n",
        "            disp_exp.plot(ax=ax[i])\n",
        "            ax[i].set_title(f'{messages[i]}')\n",
        "            ax[i].set(xlabel='Предсказанная оценка', ylabel='Истинная оценка')\n",
        "    \n",
        "\n",
        "def plot_conf_matrices_by_fold(split):\n",
        "    fig, ax = plt.subplots(params['folds'], 3, figsize=(15, params['folds'] * 5))\n",
        "    for fold, (train_ids, val_ids) in split:\n",
        "        print(f'---FOLD {fold + 1}---')\n",
        "        xception_model = timm.create_model('xception', pretrained=True)\n",
        "        model = CompositeModel(xception_model)\n",
        "        model.load_state_dict(torch.load(f\"/content/drive/MyDrive/classification_model_xception_fold{fold}.pth\", map_location=torch.device('cpu')))\n",
        "        val_subsampler = torch.utils.data.SubsetRandomSampler(val_ids)\n",
        "        val_loader = DataLoader(val_dataset, batch_size=params[\"batch_size\"], sampler=val_subsampler)\n",
        "        plot_confusion_matrices(val_loader, ax[fold])\n",
        "    fig.suptitle('Матрицы ошибок Xception классификатора по фолдам')\n",
        "\n",
        "plot_conf_matrices_by_fold(split)"
      ]
    }
  ],
  "metadata": {
    "accelerator": "GPU",
    "colab": {
      "collapsed_sections": [],
      "name": "diploma_classification.ipynb",
      "provenance": []
    },
    "kernelspec": {
      "display_name": "Python 3",
      "name": "python3"
    },
    "language_info": {
      "name": "python"
    }
  },
  "nbformat": 4,
  "nbformat_minor": 0
}